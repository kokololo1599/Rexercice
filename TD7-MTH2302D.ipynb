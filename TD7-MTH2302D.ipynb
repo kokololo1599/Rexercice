{
 "cells": [
  {
   "cell_type": "markdown",
   "metadata": {},
   "source": [
    "\\begin{center}  \n",
    "Luc Adjengue \n",
    "\\end{center}\n"
   ]
  },
  {
   "cell_type": "markdown",
   "metadata": {},
   "source": [
    "\\renewcommand\\contentsname{\\large{Table des matières}}\n",
    "\\tableofcontents "
   ]
  },
  {
   "cell_type": "markdown",
   "metadata": {},
   "source": [
    "\n"
   ]
  },
  {
   "cell_type": "markdown",
   "metadata": {},
   "source": [
    "# Exercice 1"
   ]
  },
  {
   "cell_type": "markdown",
   "metadata": {},
   "source": [
    "\n",
    "\n"
   ]
  },
  {
   "cell_type": "code",
   "execution_count": null,
   "metadata": {
    "collapsed": true,
    "vscode": {
     "languageId": "r"
    }
   },
   "outputs": [],
   "source": [
    "coton <- read.csv2(\"Coton.csv\")  # les données sont lues et placées dans une base de données, ici 'coton'.\n",
    "# si cette commande ne focntionne pas, essayer celle-ci\n",
    "# coton <- read.csv(\"Coton.csv\", header = TRUE, sep = \";\",dec = \".\")"
   ]
  },
  {
   "cell_type": "code",
   "execution_count": null,
   "metadata": {
    "vscode": {
     "languageId": "r"
    }
   },
   "outputs": [
    {
     "data": {
      "text/html": [
       "<table>\n",
       "<thead><tr><th scope=col>Pourcentage.de.coton</th></tr></thead>\n",
       "<tbody>\n",
       "\t<tr><td>34.2</td></tr>\n",
       "\t<tr><td>33.1</td></tr>\n",
       "\t<tr><td>34.5</td></tr>\n",
       "\t<tr><td>35.6</td></tr>\n",
       "\t<tr><td>34.3</td></tr>\n",
       "\t<tr><td>35.1</td></tr>\n",
       "\t<tr><td>34.7</td></tr>\n",
       "\t<tr><td>33.6</td></tr>\n",
       "\t<tr><td>33.6</td></tr>\n",
       "\t<tr><td>34.7</td></tr>\n",
       "\t<tr><td>35.0</td></tr>\n",
       "\t<tr><td>35.4</td></tr>\n",
       "\t<tr><td>36.2</td></tr>\n",
       "\t<tr><td>36.8</td></tr>\n",
       "\t<tr><td>35.1</td></tr>\n",
       "\t<tr><td>35.3</td></tr>\n",
       "\t<tr><td>33.8</td></tr>\n",
       "\t<tr><td>34.2</td></tr>\n",
       "\t<tr><td>33.4</td></tr>\n",
       "\t<tr><td>34.7</td></tr>\n",
       "\t<tr><td>34.6</td></tr>\n",
       "\t<tr><td>35.2</td></tr>\n",
       "\t<tr><td>35.0</td></tr>\n",
       "\t<tr><td>34.9</td></tr>\n",
       "\t<tr><td>34.7</td></tr>\n",
       "\t<tr><td>33.6</td></tr>\n",
       "\t<tr><td>32.5</td></tr>\n",
       "\t<tr><td>34.1</td></tr>\n",
       "\t<tr><td>35.1</td></tr>\n",
       "\t<tr><td>36.8</td></tr>\n",
       "\t<tr><td>⋮</td></tr>\n",
       "\t<tr><td>35.4</td></tr>\n",
       "\t<tr><td>34.6</td></tr>\n",
       "\t<tr><td>33.8</td></tr>\n",
       "\t<tr><td>37.1</td></tr>\n",
       "\t<tr><td>34.0</td></tr>\n",
       "\t<tr><td>34.1</td></tr>\n",
       "\t<tr><td>32.6</td></tr>\n",
       "\t<tr><td>33.1</td></tr>\n",
       "\t<tr><td>34.6</td></tr>\n",
       "\t<tr><td>35.9</td></tr>\n",
       "\t<tr><td>34.7</td></tr>\n",
       "\t<tr><td>33.6</td></tr>\n",
       "\t<tr><td>32.9</td></tr>\n",
       "\t<tr><td>33.5</td></tr>\n",
       "\t<tr><td>35.8</td></tr>\n",
       "\t<tr><td>37.6</td></tr>\n",
       "\t<tr><td>37.3</td></tr>\n",
       "\t<tr><td>34.6</td></tr>\n",
       "\t<tr><td>35.5</td></tr>\n",
       "\t<tr><td>32.8</td></tr>\n",
       "\t<tr><td>32.1</td></tr>\n",
       "\t<tr><td>34.5</td></tr>\n",
       "\t<tr><td>34.6</td></tr>\n",
       "\t<tr><td>33.6</td></tr>\n",
       "\t<tr><td>34.1</td></tr>\n",
       "\t<tr><td>34.7</td></tr>\n",
       "\t<tr><td>35.7</td></tr>\n",
       "\t<tr><td>36.8</td></tr>\n",
       "\t<tr><td>34.3</td></tr>\n",
       "\t<tr><td>32.7</td></tr>\n",
       "</tbody>\n",
       "</table>\n"
      ],
      "text/latex": [
       "\\begin{tabular}{r|l}\n",
       " Pourcentage.de.coton\\\\\n",
       "\\hline\n",
       "\t 34.2\\\\\n",
       "\t 33.1\\\\\n",
       "\t 34.5\\\\\n",
       "\t 35.6\\\\\n",
       "\t 34.3\\\\\n",
       "\t 35.1\\\\\n",
       "\t 34.7\\\\\n",
       "\t 33.6\\\\\n",
       "\t 33.6\\\\\n",
       "\t 34.7\\\\\n",
       "\t 35.0\\\\\n",
       "\t 35.4\\\\\n",
       "\t 36.2\\\\\n",
       "\t 36.8\\\\\n",
       "\t 35.1\\\\\n",
       "\t 35.3\\\\\n",
       "\t 33.8\\\\\n",
       "\t 34.2\\\\\n",
       "\t 33.4\\\\\n",
       "\t 34.7\\\\\n",
       "\t 34.6\\\\\n",
       "\t 35.2\\\\\n",
       "\t 35.0\\\\\n",
       "\t 34.9\\\\\n",
       "\t 34.7\\\\\n",
       "\t 33.6\\\\\n",
       "\t 32.5\\\\\n",
       "\t 34.1\\\\\n",
       "\t 35.1\\\\\n",
       "\t 36.8\\\\\n",
       "\t ⋮\\\\\n",
       "\t 35.4\\\\\n",
       "\t 34.6\\\\\n",
       "\t 33.8\\\\\n",
       "\t 37.1\\\\\n",
       "\t 34.0\\\\\n",
       "\t 34.1\\\\\n",
       "\t 32.6\\\\\n",
       "\t 33.1\\\\\n",
       "\t 34.6\\\\\n",
       "\t 35.9\\\\\n",
       "\t 34.7\\\\\n",
       "\t 33.6\\\\\n",
       "\t 32.9\\\\\n",
       "\t 33.5\\\\\n",
       "\t 35.8\\\\\n",
       "\t 37.6\\\\\n",
       "\t 37.3\\\\\n",
       "\t 34.6\\\\\n",
       "\t 35.5\\\\\n",
       "\t 32.8\\\\\n",
       "\t 32.1\\\\\n",
       "\t 34.5\\\\\n",
       "\t 34.6\\\\\n",
       "\t 33.6\\\\\n",
       "\t 34.1\\\\\n",
       "\t 34.7\\\\\n",
       "\t 35.7\\\\\n",
       "\t 36.8\\\\\n",
       "\t 34.3\\\\\n",
       "\t 32.7\\\\\n",
       "\\end{tabular}\n"
      ],
      "text/markdown": [
       "\n",
       "Pourcentage.de.coton | \n",
       "|---|---|---|---|---|---|---|---|---|---|---|---|---|---|---|---|---|---|---|---|---|---|---|---|---|---|---|---|---|---|---|---|---|---|---|---|---|---|---|---|---|---|---|---|---|---|---|---|---|---|---|---|---|---|---|---|---|---|---|---|---|\n",
       "| 34.2 | \n",
       "| 33.1 | \n",
       "| 34.5 | \n",
       "| 35.6 | \n",
       "| 34.3 | \n",
       "| 35.1 | \n",
       "| 34.7 | \n",
       "| 33.6 | \n",
       "| 33.6 | \n",
       "| 34.7 | \n",
       "| 35.0 | \n",
       "| 35.4 | \n",
       "| 36.2 | \n",
       "| 36.8 | \n",
       "| 35.1 | \n",
       "| 35.3 | \n",
       "| 33.8 | \n",
       "| 34.2 | \n",
       "| 33.4 | \n",
       "| 34.7 | \n",
       "| 34.6 | \n",
       "| 35.2 | \n",
       "| 35.0 | \n",
       "| 34.9 | \n",
       "| 34.7 | \n",
       "| 33.6 | \n",
       "| 32.5 | \n",
       "| 34.1 | \n",
       "| 35.1 | \n",
       "| 36.8 | \n",
       "| ⋮ | \n",
       "| 35.4 | \n",
       "| 34.6 | \n",
       "| 33.8 | \n",
       "| 37.1 | \n",
       "| 34.0 | \n",
       "| 34.1 | \n",
       "| 32.6 | \n",
       "| 33.1 | \n",
       "| 34.6 | \n",
       "| 35.9 | \n",
       "| 34.7 | \n",
       "| 33.6 | \n",
       "| 32.9 | \n",
       "| 33.5 | \n",
       "| 35.8 | \n",
       "| 37.6 | \n",
       "| 37.3 | \n",
       "| 34.6 | \n",
       "| 35.5 | \n",
       "| 32.8 | \n",
       "| 32.1 | \n",
       "| 34.5 | \n",
       "| 34.6 | \n",
       "| 33.6 | \n",
       "| 34.1 | \n",
       "| 34.7 | \n",
       "| 35.7 | \n",
       "| 36.8 | \n",
       "| 34.3 | \n",
       "| 32.7 | \n",
       "\n",
       "\n"
      ],
      "text/plain": [
       "   Pourcentage.de.coton\n",
       "1  34.2                \n",
       "2  33.1                \n",
       "3  34.5                \n",
       "4  35.6                \n",
       "5  34.3                \n",
       "6  35.1                \n",
       "7  34.7                \n",
       "8  33.6                \n",
       "9  33.6                \n",
       "10 34.7                \n",
       "11 35.0                \n",
       "12 35.4                \n",
       "13 36.2                \n",
       "14 36.8                \n",
       "15 35.1                \n",
       "16 35.3                \n",
       "17 33.8                \n",
       "18 34.2                \n",
       "19 33.4                \n",
       "20 34.7                \n",
       "21 34.6                \n",
       "22 35.2                \n",
       "23 35.0                \n",
       "24 34.9                \n",
       "25 34.7                \n",
       "26 33.6                \n",
       "27 32.5                \n",
       "28 34.1                \n",
       "29 35.1                \n",
       "30 36.8                \n",
       "⋮  ⋮                   \n",
       "35 35.4                \n",
       "36 34.6                \n",
       "37 33.8                \n",
       "38 37.1                \n",
       "39 34.0                \n",
       "40 34.1                \n",
       "41 32.6                \n",
       "42 33.1                \n",
       "43 34.6                \n",
       "44 35.9                \n",
       "45 34.7                \n",
       "46 33.6                \n",
       "47 32.9                \n",
       "48 33.5                \n",
       "49 35.8                \n",
       "50 37.6                \n",
       "51 37.3                \n",
       "52 34.6                \n",
       "53 35.5                \n",
       "54 32.8                \n",
       "55 32.1                \n",
       "56 34.5                \n",
       "57 34.6                \n",
       "58 33.6                \n",
       "59 34.1                \n",
       "60 34.7                \n",
       "61 35.7                \n",
       "62 36.8                \n",
       "63 34.3                \n",
       "64 32.7                "
      ]
     },
     "metadata": {},
     "output_type": "display_data"
    }
   ],
   "source": [
    "coton  # on peut visualiser l'ensemble des données en tapant le nom de la base de données"
   ]
  },
  {
   "cell_type": "code",
   "execution_count": 3,
   "metadata": {
    "collapsed": true,
    "vscode": {
     "languageId": "r"
    }
   },
   "outputs": [],
   "source": [
    "x <- coton$Pourcentage.de.coton # on peut choisir un nom de variable plus court, e.g. ici, x"
   ]
  },
  {
   "cell_type": "code",
   "execution_count": 4,
   "metadata": {
    "vscode": {
     "languageId": "r"
    }
   },
   "outputs": [
    {
     "data": {
      "text/html": [
       "<ol class=list-inline>\n",
       "\t<li>34.2</li>\n",
       "\t<li>33.1</li>\n",
       "\t<li>34.5</li>\n",
       "\t<li>35.6</li>\n",
       "\t<li>34.3</li>\n",
       "\t<li>35.1</li>\n",
       "\t<li>34.7</li>\n",
       "\t<li>33.6</li>\n",
       "\t<li>33.6</li>\n",
       "\t<li>34.7</li>\n",
       "\t<li>35</li>\n",
       "\t<li>35.4</li>\n",
       "\t<li>36.2</li>\n",
       "\t<li>36.8</li>\n",
       "\t<li>35.1</li>\n",
       "\t<li>35.3</li>\n",
       "\t<li>33.8</li>\n",
       "\t<li>34.2</li>\n",
       "\t<li>33.4</li>\n",
       "\t<li>34.7</li>\n",
       "\t<li>34.6</li>\n",
       "\t<li>35.2</li>\n",
       "\t<li>35</li>\n",
       "\t<li>34.9</li>\n",
       "\t<li>34.7</li>\n",
       "\t<li>33.6</li>\n",
       "\t<li>32.5</li>\n",
       "\t<li>34.1</li>\n",
       "\t<li>35.1</li>\n",
       "\t<li>36.8</li>\n",
       "\t<li>37.9</li>\n",
       "\t<li>36.4</li>\n",
       "\t<li>37.8</li>\n",
       "\t<li>36.6</li>\n",
       "\t<li>35.4</li>\n",
       "\t<li>34.6</li>\n",
       "\t<li>33.8</li>\n",
       "\t<li>37.1</li>\n",
       "\t<li>34</li>\n",
       "\t<li>34.1</li>\n",
       "\t<li>32.6</li>\n",
       "\t<li>33.1</li>\n",
       "\t<li>34.6</li>\n",
       "\t<li>35.9</li>\n",
       "\t<li>34.7</li>\n",
       "\t<li>33.6</li>\n",
       "\t<li>32.9</li>\n",
       "\t<li>33.5</li>\n",
       "\t<li>35.8</li>\n",
       "\t<li>37.6</li>\n",
       "\t<li>37.3</li>\n",
       "\t<li>34.6</li>\n",
       "\t<li>35.5</li>\n",
       "\t<li>32.8</li>\n",
       "\t<li>32.1</li>\n",
       "\t<li>34.5</li>\n",
       "\t<li>34.6</li>\n",
       "\t<li>33.6</li>\n",
       "\t<li>34.1</li>\n",
       "\t<li>34.7</li>\n",
       "\t<li>35.7</li>\n",
       "\t<li>36.8</li>\n",
       "\t<li>34.3</li>\n",
       "\t<li>32.7</li>\n",
       "</ol>\n"
      ],
      "text/latex": [
       "\\begin{enumerate*}\n",
       "\\item 34.2\n",
       "\\item 33.1\n",
       "\\item 34.5\n",
       "\\item 35.6\n",
       "\\item 34.3\n",
       "\\item 35.1\n",
       "\\item 34.7\n",
       "\\item 33.6\n",
       "\\item 33.6\n",
       "\\item 34.7\n",
       "\\item 35\n",
       "\\item 35.4\n",
       "\\item 36.2\n",
       "\\item 36.8\n",
       "\\item 35.1\n",
       "\\item 35.3\n",
       "\\item 33.8\n",
       "\\item 34.2\n",
       "\\item 33.4\n",
       "\\item 34.7\n",
       "\\item 34.6\n",
       "\\item 35.2\n",
       "\\item 35\n",
       "\\item 34.9\n",
       "\\item 34.7\n",
       "\\item 33.6\n",
       "\\item 32.5\n",
       "\\item 34.1\n",
       "\\item 35.1\n",
       "\\item 36.8\n",
       "\\item 37.9\n",
       "\\item 36.4\n",
       "\\item 37.8\n",
       "\\item 36.6\n",
       "\\item 35.4\n",
       "\\item 34.6\n",
       "\\item 33.8\n",
       "\\item 37.1\n",
       "\\item 34\n",
       "\\item 34.1\n",
       "\\item 32.6\n",
       "\\item 33.1\n",
       "\\item 34.6\n",
       "\\item 35.9\n",
       "\\item 34.7\n",
       "\\item 33.6\n",
       "\\item 32.9\n",
       "\\item 33.5\n",
       "\\item 35.8\n",
       "\\item 37.6\n",
       "\\item 37.3\n",
       "\\item 34.6\n",
       "\\item 35.5\n",
       "\\item 32.8\n",
       "\\item 32.1\n",
       "\\item 34.5\n",
       "\\item 34.6\n",
       "\\item 33.6\n",
       "\\item 34.1\n",
       "\\item 34.7\n",
       "\\item 35.7\n",
       "\\item 36.8\n",
       "\\item 34.3\n",
       "\\item 32.7\n",
       "\\end{enumerate*}\n"
      ],
      "text/markdown": [
       "1. 34.2\n",
       "2. 33.1\n",
       "3. 34.5\n",
       "4. 35.6\n",
       "5. 34.3\n",
       "6. 35.1\n",
       "7. 34.7\n",
       "8. 33.6\n",
       "9. 33.6\n",
       "10. 34.7\n",
       "11. 35\n",
       "12. 35.4\n",
       "13. 36.2\n",
       "14. 36.8\n",
       "15. 35.1\n",
       "16. 35.3\n",
       "17. 33.8\n",
       "18. 34.2\n",
       "19. 33.4\n",
       "20. 34.7\n",
       "21. 34.6\n",
       "22. 35.2\n",
       "23. 35\n",
       "24. 34.9\n",
       "25. 34.7\n",
       "26. 33.6\n",
       "27. 32.5\n",
       "28. 34.1\n",
       "29. 35.1\n",
       "30. 36.8\n",
       "31. 37.9\n",
       "32. 36.4\n",
       "33. 37.8\n",
       "34. 36.6\n",
       "35. 35.4\n",
       "36. 34.6\n",
       "37. 33.8\n",
       "38. 37.1\n",
       "39. 34\n",
       "40. 34.1\n",
       "41. 32.6\n",
       "42. 33.1\n",
       "43. 34.6\n",
       "44. 35.9\n",
       "45. 34.7\n",
       "46. 33.6\n",
       "47. 32.9\n",
       "48. 33.5\n",
       "49. 35.8\n",
       "50. 37.6\n",
       "51. 37.3\n",
       "52. 34.6\n",
       "53. 35.5\n",
       "54. 32.8\n",
       "55. 32.1\n",
       "56. 34.5\n",
       "57. 34.6\n",
       "58. 33.6\n",
       "59. 34.1\n",
       "60. 34.7\n",
       "61. 35.7\n",
       "62. 36.8\n",
       "63. 34.3\n",
       "64. 32.7\n",
       "\n",
       "\n"
      ],
      "text/plain": [
       " [1] 34.2 33.1 34.5 35.6 34.3 35.1 34.7 33.6 33.6 34.7 35.0 35.4 36.2 36.8 35.1\n",
       "[16] 35.3 33.8 34.2 33.4 34.7 34.6 35.2 35.0 34.9 34.7 33.6 32.5 34.1 35.1 36.8\n",
       "[31] 37.9 36.4 37.8 36.6 35.4 34.6 33.8 37.1 34.0 34.1 32.6 33.1 34.6 35.9 34.7\n",
       "[46] 33.6 32.9 33.5 35.8 37.6 37.3 34.6 35.5 32.8 32.1 34.5 34.6 33.6 34.1 34.7\n",
       "[61] 35.7 36.8 34.3 32.7"
      ]
     },
     "metadata": {},
     "output_type": "display_data"
    }
   ],
   "source": [
    "x # on peut voir les données d'une variable en tapant le nom de la variable"
   ]
  },
  {
   "cell_type": "markdown",
   "metadata": {},
   "source": [
    "## histogramme "
   ]
  },
  {
   "cell_type": "code",
   "execution_count": 5,
   "metadata": {
    "vscode": {
     "languageId": "r"
    }
   },
   "outputs": [
    {
     "data": {
      "image/png": "[encoded data removed]",
      "text/plain": [
       "Plot with title “Histogramme du pourcentage de coton”"
      ]
     },
     "metadata": {},
     "output_type": "display_data"
    }
   ],
   "source": [
    "hist(x,col=\"green\",main=\"Histogramme du pourcentage de coton\", \n",
    "     border=\"red\", xlab=\"Pourcentage\",ylab=\"Effectif\")"
   ]
  },
  {
   "cell_type": "markdown",
   "metadata": {},
   "source": [
    "R est programmé pour produire un histogramme avec un nombre de classes optimal.\n",
    "Le tableau de disribution des fréquences ne présente donc pas un grand intérêt. \n",
    "Si on veut un tableau des fréquences,  il faut créer des limites de classes"
   ]
  },
  {
   "cell_type": "code",
   "execution_count": 6,
   "metadata": {
    "collapsed": true,
    "vscode": {
     "languageId": "r"
    }
   },
   "outputs": [],
   "source": [
    "breaks <-seq(32,38,by=1) # by donne la longueur de l'intervalle (essayer différentes valeurs)"
   ]
  },
  {
   "cell_type": "code",
   "execution_count": 7,
   "metadata": {
    "vscode": {
     "languageId": "r"
    }
   },
   "outputs": [
    {
     "data": {
      "text/html": [
       "<ol class=list-inline>\n",
       "\t<li>32</li>\n",
       "\t<li>33</li>\n",
       "\t<li>34</li>\n",
       "\t<li>35</li>\n",
       "\t<li>36</li>\n",
       "\t<li>37</li>\n",
       "\t<li>38</li>\n",
       "</ol>\n"
      ],
      "text/latex": [
       "\\begin{enumerate*}\n",
       "\\item 32\n",
       "\\item 33\n",
       "\\item 34\n",
       "\\item 35\n",
       "\\item 36\n",
       "\\item 37\n",
       "\\item 38\n",
       "\\end{enumerate*}\n"
      ],
      "text/markdown": [
       "1. 32\n",
       "2. 33\n",
       "3. 34\n",
       "4. 35\n",
       "5. 36\n",
       "6. 37\n",
       "7. 38\n",
       "\n",
       "\n"
      ],
      "text/plain": [
       "[1] 32 33 34 35 36 37 38"
      ]
     },
     "metadata": {},
     "output_type": "display_data"
    }
   ],
   "source": [
    "breaks"
   ]
  },
  {
   "cell_type": "code",
   "execution_count": 8,
   "metadata": {
    "collapsed": true,
    "vscode": {
     "languageId": "r"
    }
   },
   "outputs": [],
   "source": [
    "classx <- factor(cut(x, breaks))"
   ]
  },
  {
   "cell_type": "code",
   "execution_count": 9,
   "metadata": {
    "vscode": {
     "languageId": "r"
    }
   },
   "outputs": [
    {
     "data": {
      "text/html": [
       "<table>\n",
       "<thead><tr><th scope=col>classx</th><th scope=col>Freq</th></tr></thead>\n",
       "<tbody>\n",
       "\t<tr><td>(32,33]</td><td> 6     </td></tr>\n",
       "\t<tr><td>(33,34]</td><td>12     </td></tr>\n",
       "\t<tr><td>(34,35]</td><td>23     </td></tr>\n",
       "\t<tr><td>(35,36]</td><td>12     </td></tr>\n",
       "\t<tr><td>(36,37]</td><td> 6     </td></tr>\n",
       "\t<tr><td>(37,38]</td><td> 5     </td></tr>\n",
       "</tbody>\n",
       "</table>\n"
      ],
      "text/latex": [
       "\\begin{tabular}{r|ll}\n",
       " classx & Freq\\\\\n",
       "\\hline\n",
       "\t (32,33{]} &  6       \\\\\n",
       "\t (33,34{]} & 12       \\\\\n",
       "\t (34,35{]} & 23       \\\\\n",
       "\t (35,36{]} & 12       \\\\\n",
       "\t (36,37{]} &  6       \\\\\n",
       "\t (37,38{]} &  5       \\\\\n",
       "\\end{tabular}\n"
      ],
      "text/markdown": [
       "\n",
       "classx | Freq | \n",
       "|---|---|---|---|---|---|\n",
       "| (32,33] |  6      | \n",
       "| (33,34] | 12      | \n",
       "| (34,35] | 23      | \n",
       "| (35,36] | 12      | \n",
       "| (36,37] |  6      | \n",
       "| (37,38] |  5      | \n",
       "\n",
       "\n"
      ],
      "text/plain": [
       "  classx  Freq\n",
       "1 (32,33]  6  \n",
       "2 (33,34] 12  \n",
       "3 (34,35] 23  \n",
       "4 (35,36] 12  \n",
       "5 (36,37]  6  \n",
       "6 (37,38]  5  "
      ]
     },
     "metadata": {},
     "output_type": "display_data"
    }
   ],
   "source": [
    "xout <- as.data.frame(table(classx))\n",
    "xout"
   ]
  },
  {
   "cell_type": "markdown",
   "metadata": {},
   "source": [
    "On peut ajouter des effectifs cumulés et des fréquences relatives"
   ]
  },
  {
   "cell_type": "code",
   "execution_count": 10,
   "metadata": {
    "vscode": {
     "languageId": "r"
    }
   },
   "outputs": [
    {
     "data": {
      "text/html": [
       "<table>\n",
       "<thead><tr><th scope=col>classx</th><th scope=col>Freq</th><th scope=col>Freq_Cum</th><th scope=col>freq_relative</th></tr></thead>\n",
       "<tbody>\n",
       "\t<tr><td>(32,33] </td><td> 6      </td><td> 6      </td><td>0.093750</td></tr>\n",
       "\t<tr><td>(33,34] </td><td>12      </td><td>18      </td><td>0.187500</td></tr>\n",
       "\t<tr><td>(34,35] </td><td>23      </td><td>41      </td><td>0.359375</td></tr>\n",
       "\t<tr><td>(35,36] </td><td>12      </td><td>53      </td><td>0.187500</td></tr>\n",
       "\t<tr><td>(36,37] </td><td> 6      </td><td>59      </td><td>0.093750</td></tr>\n",
       "\t<tr><td>(37,38] </td><td> 5      </td><td>64      </td><td>0.078125</td></tr>\n",
       "</tbody>\n",
       "</table>\n"
      ],
      "text/latex": [
       "\\begin{tabular}{r|llll}\n",
       " classx & Freq & Freq\\_Cum & freq\\_relative\\\\\n",
       "\\hline\n",
       "\t (32,33{]} &  6        &  6        & 0.093750 \\\\\n",
       "\t (33,34{]} & 12        & 18        & 0.187500 \\\\\n",
       "\t (34,35{]} & 23        & 41        & 0.359375 \\\\\n",
       "\t (35,36{]} & 12        & 53        & 0.187500 \\\\\n",
       "\t (36,37{]} &  6        & 59        & 0.093750 \\\\\n",
       "\t (37,38{]} &  5        & 64        & 0.078125 \\\\\n",
       "\\end{tabular}\n"
      ],
      "text/markdown": [
       "\n",
       "classx | Freq | Freq_Cum | freq_relative | \n",
       "|---|---|---|---|---|---|\n",
       "| (32,33]  |  6       |  6       | 0.093750 | \n",
       "| (33,34]  | 12       | 18       | 0.187500 | \n",
       "| (34,35]  | 23       | 41       | 0.359375 | \n",
       "| (35,36]  | 12       | 53       | 0.187500 | \n",
       "| (36,37]  |  6       | 59       | 0.093750 | \n",
       "| (37,38]  |  5       | 64       | 0.078125 | \n",
       "\n",
       "\n"
      ],
      "text/plain": [
       "  classx  Freq Freq_Cum freq_relative\n",
       "1 (32,33]  6    6       0.093750     \n",
       "2 (33,34] 12   18       0.187500     \n",
       "3 (34,35] 23   41       0.359375     \n",
       "4 (35,36] 12   53       0.187500     \n",
       "5 (36,37]  6   59       0.093750     \n",
       "6 (37,38]  5   64       0.078125     "
      ]
     },
     "metadata": {},
     "output_type": "display_data"
    }
   ],
   "source": [
    "xout <- transform(xout, Freq_Cum = cumsum(Freq), freq_relative = prop.table(Freq))\n",
    "xout"
   ]
  },
  {
   "cell_type": "markdown",
   "metadata": {},
   "source": [
    "## BoxPlot"
   ]
  },
  {
   "cell_type": "code",
   "execution_count": 11,
   "metadata": {
    "vscode": {
     "languageId": "r"
    }
   },
   "outputs": [
    {
     "data": {
      "image/png": "[encoded data removed]",
      "text/plain": [
       "plot without title"
      ]
     },
     "metadata": {},
     "output_type": "display_data"
    }
   ],
   "source": [
    "boxplot(x,horizontal=T,col=\"grey\",xlab=\"Pourcentage\")"
   ]
  },
  {
   "cell_type": "markdown",
   "metadata": {},
   "source": [
    "## Diagramme quantile normal"
   ]
  },
  {
   "cell_type": "code",
   "execution_count": 12,
   "metadata": {
    "vscode": {
     "languageId": "r"
    }
   },
   "outputs": [
    {
     "data": {
      "image/png": "[encoded data removed]",
      "text/plain": [
       "Plot with title “Normal Q-Q Plot”"
      ]
     },
     "metadata": {},
     "output_type": "display_data"
    }
   ],
   "source": [
    "qqnorm(x,col=\"blue\")\n",
    "qqline(x,col=\"red\")"
   ]
  },
  {
   "cell_type": "markdown",
   "metadata": {},
   "source": [
    "## Calculs de statistiques"
   ]
  },
  {
   "cell_type": "code",
   "execution_count": 13,
   "metadata": {
    "vscode": {
     "languageId": "r"
    }
   },
   "outputs": [
    {
     "name": "stdout",
     "output_type": "stream",
     "text": [
      "moyenne = 34.76719 médiane = 34.65 , écart-type =  1.352018 ,  variance =  1.827954 \n",
      " coefficient de variation =  0.03888777"
     ]
    }
   ],
   "source": [
    "m=mean(x)\n",
    "md=median(x)\n",
    "v=var(x)\n",
    "s=sd(x)\n",
    "cv=s/m\n",
    "cat('moyenne =',m,'médiane =',md,', écart-type = ', s,',  variance = ', v ,'\\n',\n",
    "   'coefficient de variation = ', cv )"
   ]
  },
  {
   "cell_type": "markdown",
   "metadata": {},
   "source": [
    "La commande 'summary()' donne certaines statistiques : le minimum, le 1er quartile, la médiane, \n",
    "la moyenne, le 3eme quartile et le maximum."
   ]
  },
  {
   "cell_type": "code",
   "execution_count": 14,
   "metadata": {
    "vscode": {
     "languageId": "r"
    }
   },
   "outputs": [
    {
     "data": {
      "text/plain": [
       "   Min. 1st Qu.  Median    Mean 3rd Qu.    Max. \n",
       "  32.10   33.80   34.65   34.77   35.42   37.90 "
      ]
     },
     "metadata": {},
     "output_type": "display_data"
    }
   ],
   "source": [
    "summary(x)"
   ]
  },
  {
   "cell_type": "markdown",
   "metadata": {},
   "source": [
    "Les percentiles de tout ordre peuvent être calculés avec la commande quantile(x, ordres)"
   ]
  },
  {
   "cell_type": "code",
   "execution_count": 15,
   "metadata": {
    "vscode": {
     "languageId": "r"
    }
   },
   "outputs": [
    {
     "data": {
      "text/html": [
       "<strong>50%:</strong> 34.65"
      ],
      "text/latex": [
       "\\textbf{50\\textbackslash{}\\%:} 34.65"
      ],
      "text/markdown": [
       "**50%:** 34.65"
      ],
      "text/plain": [
       "  50% \n",
       "34.65 "
      ]
     },
     "metadata": {},
     "output_type": "display_data"
    }
   ],
   "source": [
    "quantile(x, .5) # la médiane"
   ]
  },
  {
   "cell_type": "code",
   "execution_count": 16,
   "metadata": {
    "vscode": {
     "languageId": "r"
    }
   },
   "outputs": [
    {
     "data": {
      "text/html": [
       "<dl class=dl-horizontal>\n",
       "\t<dt>25%</dt>\n",
       "\t\t<dd>33.8</dd>\n",
       "\t<dt>50%</dt>\n",
       "\t\t<dd>34.65</dd>\n",
       "\t<dt>75%</dt>\n",
       "\t\t<dd>35.425</dd>\n",
       "</dl>\n"
      ],
      "text/latex": [
       "\\begin{description*}\n",
       "\\item[25\\textbackslash{}\\%] 33.8\n",
       "\\item[50\\textbackslash{}\\%] 34.65\n",
       "\\item[75\\textbackslash{}\\%] 35.425\n",
       "\\end{description*}\n"
      ],
      "text/markdown": [
       "25%\n",
       ":   33.850%\n",
       ":   34.6575%\n",
       ":   35.425\n",
       "\n"
      ],
      "text/plain": [
       "   25%    50%    75% \n",
       "33.800 34.650 35.425 "
      ]
     },
     "metadata": {},
     "output_type": "display_data"
    }
   ],
   "source": [
    "quantile(x, c(.25,.5,.75)) # pour les 3 quartiles"
   ]
  },
  {
   "cell_type": "markdown",
   "metadata": {},
   "source": [
    "L'écart inter quartile (commande IQR)"
   ]
  },
  {
   "cell_type": "code",
   "execution_count": 17,
   "metadata": {
    "vscode": {
     "languageId": "r"
    }
   },
   "outputs": [
    {
     "data": {
      "text/html": [
       "1.625"
      ],
      "text/latex": [
       "1.625"
      ],
      "text/markdown": [
       "1.625"
      ],
      "text/plain": [
       "[1] 1.625"
      ]
     },
     "metadata": {},
     "output_type": "display_data"
    }
   ],
   "source": [
    "IQR(x)"
   ]
  },
  {
   "cell_type": "markdown",
   "metadata": {},
   "source": [
    "\n"
   ]
  },
  {
   "cell_type": "markdown",
   "metadata": {},
   "source": [
    "# Exercice 2"
   ]
  },
  {
   "cell_type": "code",
   "execution_count": 18,
   "metadata": {
    "collapsed": true,
    "vscode": {
     "languageId": "r"
    }
   },
   "outputs": [],
   "source": [
    "mem <-read.csv2(\"Memoire.csv\") # les données sont lues du fichier et placées dans la base 'mem'\n",
    "# si la commande ne focntionne pas, essayer celle-ci\n",
    "# mem <- read.csv(\"Memoire.csv\", header = TRUE, sep = \";\",dec = \".\")"
   ]
  },
  {
   "cell_type": "code",
   "execution_count": 19,
   "metadata": {
    "vscode": {
     "languageId": "r"
    }
   },
   "outputs": [
    {
     "name": "stdout",
     "output_type": "stream",
     "text": [
      "'data.frame':\t48 obs. of  8 variables:\n",
      " $ groupe   : Factor w/ 2 levels \"control\",\"experimental\": 1 1 1 2 1 2 2 2 2 1 ...\n",
      " $ sexe     : Factor w/ 2 levels \"femme\",\"homme\": 1 2 2 1 2 1 1 2 2 2 ...\n",
      " $ temps    : Factor w/ 3 levels \"apres-1\",\"apres-2\",..: 2 2 1 2 1 1 2 1 3 3 ...\n",
      " $ pay_     : Factor w/ 2 levels \"non\",\"oui\": 2 2 1 2 2 1 2 2 2 1 ...\n",
      " $ stress   : int  14 10 11 11 13 14 10 14 1 5 ...\n",
      " $ correct.1: int  12 15 4 8 5 5 6 11 7 10 ...\n",
      " $ correct.2: int  2 2 7 5 6 1 6 4 6 8 ...\n",
      " $ correct.3: int  5 7 4 6 2 1 9 6 0 1 ...\n"
     ]
    }
   ],
   "source": [
    "str(mem) # cette commande permet d'avoir un aperçu du nombre d'observations, du nombre et de l'ensemble \n",
    " # des variablesd'une base de données, e.g. ici, 'mem', \n",
    " # avec leur type, 'factor' pour catégoriciel, 'int' pour entier, 'num' pour continue, etc."
   ]
  },
  {
   "cell_type": "markdown",
   "metadata": {},
   "source": [
    "\n"
   ]
  },
  {
   "cell_type": "code",
   "execution_count": 20,
   "metadata": {
    "scrolled": true,
    "vscode": {
     "languageId": "r"
    }
   },
   "outputs": [
    {
     "data": {
      "text/html": [
       "<table>\n",
       "<thead><tr><th scope=col>groupe</th><th scope=col>sexe</th><th scope=col>temps</th><th scope=col>pay_</th><th scope=col>stress</th><th scope=col>correct.1</th><th scope=col>correct.2</th><th scope=col>correct.3</th></tr></thead>\n",
       "<tbody>\n",
       "\t<tr><td>control     </td><td>femme       </td><td>apres-2     </td><td>oui         </td><td>14          </td><td>12          </td><td>2           </td><td>5           </td></tr>\n",
       "\t<tr><td>control     </td><td>homme       </td><td>apres-2     </td><td>oui         </td><td>10          </td><td>15          </td><td>2           </td><td>7           </td></tr>\n",
       "\t<tr><td>control     </td><td>homme       </td><td>apres-1     </td><td>non         </td><td>11          </td><td> 4          </td><td>7           </td><td>4           </td></tr>\n",
       "\t<tr><td>experimental</td><td>femme       </td><td>apres-2     </td><td>oui         </td><td>11          </td><td> 8          </td><td>5           </td><td>6           </td></tr>\n",
       "\t<tr><td>control     </td><td>homme       </td><td>apres-1     </td><td>oui         </td><td>13          </td><td> 5          </td><td>6           </td><td>2           </td></tr>\n",
       "\t<tr><td>experimental</td><td>femme       </td><td>apres-1     </td><td>non         </td><td>14          </td><td> 5          </td><td>1           </td><td>1           </td></tr>\n",
       "\t<tr><td>experimental</td><td>femme       </td><td>apres-2     </td><td>oui         </td><td>10          </td><td> 6          </td><td>6           </td><td>9           </td></tr>\n",
       "\t<tr><td>experimental</td><td>homme       </td><td>apres-1     </td><td>oui         </td><td>14          </td><td>11          </td><td>4           </td><td>6           </td></tr>\n",
       "\t<tr><td>experimental</td><td>homme       </td><td>avant       </td><td>oui         </td><td> 1          </td><td> 7          </td><td>6           </td><td>0           </td></tr>\n",
       "\t<tr><td>control     </td><td>homme       </td><td>avant       </td><td>non         </td><td> 5          </td><td>10          </td><td>8           </td><td>1           </td></tr>\n",
       "\t<tr><td>control     </td><td>homme       </td><td>apres-2     </td><td>oui         </td><td> 8          </td><td>12          </td><td>7           </td><td>6           </td></tr>\n",
       "\t<tr><td>experimental</td><td>homme       </td><td>avant       </td><td>oui         </td><td> 2          </td><td>11          </td><td>7           </td><td>3           </td></tr>\n",
       "\t<tr><td>control     </td><td>femme       </td><td>apres-1     </td><td>oui         </td><td>12          </td><td>10          </td><td>9           </td><td>3           </td></tr>\n",
       "\t<tr><td>control     </td><td>homme       </td><td>avant       </td><td>non         </td><td> 5          </td><td>11          </td><td>7           </td><td>5           </td></tr>\n",
       "\t<tr><td>control     </td><td>homme       </td><td>apres-1     </td><td>non         </td><td>13          </td><td> 5          </td><td>5           </td><td>5           </td></tr>\n",
       "\t<tr><td>control     </td><td>femme       </td><td>apres-2     </td><td>non         </td><td> 7          </td><td> 8          </td><td>7           </td><td>4           </td></tr>\n",
       "\t<tr><td>experimental</td><td>homme       </td><td>avant       </td><td>non         </td><td> 2          </td><td>12          </td><td>4           </td><td>6           </td></tr>\n",
       "\t<tr><td>experimental</td><td>homme       </td><td>apres-2     </td><td>oui         </td><td>14          </td><td> 9          </td><td>6           </td><td>5           </td></tr>\n",
       "\t<tr><td>experimental</td><td>homme       </td><td>apres-2     </td><td>non         </td><td>14          </td><td>19          </td><td>5           </td><td>4           </td></tr>\n",
       "\t<tr><td>control     </td><td>femme       </td><td>avant       </td><td>non         </td><td> 4          </td><td>16          </td><td>5           </td><td>7           </td></tr>\n",
       "\t<tr><td>experimental</td><td>femme       </td><td>apres-1     </td><td>oui         </td><td>13          </td><td> 7          </td><td>6           </td><td>0           </td></tr>\n",
       "\t<tr><td>control     </td><td>femme       </td><td>avant       </td><td>non         </td><td> 7          </td><td>14          </td><td>4           </td><td>8           </td></tr>\n",
       "\t<tr><td>control     </td><td>homme       </td><td>apres-2     </td><td>non         </td><td> 5          </td><td> 4          </td><td>5           </td><td>4           </td></tr>\n",
       "\t<tr><td>control     </td><td>femme       </td><td>avant       </td><td>oui         </td><td> 6          </td><td>12          </td><td>2           </td><td>4           </td></tr>\n",
       "\t<tr><td>control     </td><td>femme       </td><td>apres-2     </td><td>oui         </td><td>15          </td><td> 7          </td><td>1           </td><td>6           </td></tr>\n",
       "\t<tr><td>experimental</td><td>homme       </td><td>avant       </td><td>non         </td><td> 2          </td><td> 3          </td><td>3           </td><td>7           </td></tr>\n",
       "\t<tr><td>experimental</td><td>femme       </td><td>avant       </td><td>non         </td><td>13          </td><td> 6          </td><td>5           </td><td>5           </td></tr>\n",
       "\t<tr><td>control     </td><td>femme       </td><td>apres-1     </td><td>non         </td><td>13          </td><td>16          </td><td>1           </td><td>1           </td></tr>\n",
       "\t<tr><td>control     </td><td>femme       </td><td>avant       </td><td>oui         </td><td> 5          </td><td>13          </td><td>4           </td><td>5           </td></tr>\n",
       "\t<tr><td>control     </td><td>femme       </td><td>apres-1     </td><td>oui         </td><td>11          </td><td> 9          </td><td>8           </td><td>2           </td></tr>\n",
       "\t<tr><td>experimental</td><td>femme       </td><td>avant       </td><td>non         </td><td>15          </td><td> 8          </td><td>2           </td><td>2           </td></tr>\n",
       "\t<tr><td>control     </td><td>homme       </td><td>apres-2     </td><td>non         </td><td> 5          </td><td> 8          </td><td>8           </td><td>5           </td></tr>\n",
       "\t<tr><td>experimental</td><td>homme       </td><td>apres-1     </td><td>oui         </td><td> 3          </td><td>15          </td><td>3           </td><td>3           </td></tr>\n",
       "\t<tr><td>control     </td><td>femme       </td><td>apres-2     </td><td>non         </td><td> 6          </td><td> 6          </td><td>8           </td><td>5           </td></tr>\n",
       "\t<tr><td>experimental</td><td>femme       </td><td>apres-1     </td><td>non         </td><td>14          </td><td> 6          </td><td>3           </td><td>2           </td></tr>\n",
       "\t<tr><td>experimental</td><td>femme       </td><td>apres-1     </td><td>oui         </td><td>15          </td><td> 6          </td><td>6           </td><td>8           </td></tr>\n",
       "\t<tr><td>experimental</td><td>homme       </td><td>apres-1     </td><td>non         </td><td>13          </td><td> 8          </td><td>2           </td><td>7           </td></tr>\n",
       "\t<tr><td>experimental</td><td>homme       </td><td>apres-2     </td><td>non         </td><td>14          </td><td>11          </td><td>6           </td><td>7           </td></tr>\n",
       "\t<tr><td>experimental</td><td>femme       </td><td>apres-2     </td><td>non         </td><td>11          </td><td> 5          </td><td>4           </td><td>7           </td></tr>\n",
       "\t<tr><td>experimental</td><td>femme       </td><td>apres-2     </td><td>non         </td><td>14          </td><td> 7          </td><td>6           </td><td>8           </td></tr>\n",
       "\t<tr><td>control     </td><td>homme       </td><td>avant       </td><td>oui         </td><td> 7          </td><td> 9          </td><td>9           </td><td>5           </td></tr>\n",
       "\t<tr><td>experimental</td><td>femme       </td><td>avant       </td><td>oui         </td><td>14          </td><td> 8          </td><td>4           </td><td>4           </td></tr>\n",
       "\t<tr><td>control     </td><td>homme       </td><td>avant       </td><td>oui         </td><td>10          </td><td> 8          </td><td>8           </td><td>6           </td></tr>\n",
       "\t<tr><td>control     </td><td>homme       </td><td>apres-1     </td><td>oui         </td><td>11          </td><td> 6          </td><td>8           </td><td>1           </td></tr>\n",
       "\t<tr><td>experimental</td><td>homme       </td><td>apres-2     </td><td>oui         </td><td>14          </td><td>10          </td><td>4           </td><td>8           </td></tr>\n",
       "\t<tr><td>experimental</td><td>femme       </td><td>apres-1     </td><td>oui         </td><td>17          </td><td> 7          </td><td>5           </td><td>7           </td></tr>\n",
       "\t<tr><td>control     </td><td>femme       </td><td>apres-1     </td><td>non         </td><td>13          </td><td>14          </td><td>8           </td><td>2           </td></tr>\n",
       "\t<tr><td>experimental</td><td>homme       </td><td>apres-1     </td><td>non         </td><td> 3          </td><td>15          </td><td>1           </td><td>7           </td></tr>\n",
       "</tbody>\n",
       "</table>\n"
      ],
      "text/latex": [
       "\\begin{tabular}{r|llllllll}\n",
       " groupe & sexe & temps & pay\\_ & stress & correct.1 & correct.2 & correct.3\\\\\n",
       "\\hline\n",
       "\t control      & femme        & apres-2      & oui          & 14           & 12           & 2            & 5           \\\\\n",
       "\t control      & homme        & apres-2      & oui          & 10           & 15           & 2            & 7           \\\\\n",
       "\t control      & homme        & apres-1      & non          & 11           &  4           & 7            & 4           \\\\\n",
       "\t experimental & femme        & apres-2      & oui          & 11           &  8           & 5            & 6           \\\\\n",
       "\t control      & homme        & apres-1      & oui          & 13           &  5           & 6            & 2           \\\\\n",
       "\t experimental & femme        & apres-1      & non          & 14           &  5           & 1            & 1           \\\\\n",
       "\t experimental & femme        & apres-2      & oui          & 10           &  6           & 6            & 9           \\\\\n",
       "\t experimental & homme        & apres-1      & oui          & 14           & 11           & 4            & 6           \\\\\n",
       "\t experimental & homme        & avant        & oui          &  1           &  7           & 6            & 0           \\\\\n",
       "\t control      & homme        & avant        & non          &  5           & 10           & 8            & 1           \\\\\n",
       "\t control      & homme        & apres-2      & oui          &  8           & 12           & 7            & 6           \\\\\n",
       "\t experimental & homme        & avant        & oui          &  2           & 11           & 7            & 3           \\\\\n",
       "\t control      & femme        & apres-1      & oui          & 12           & 10           & 9            & 3           \\\\\n",
       "\t control      & homme        & avant        & non          &  5           & 11           & 7            & 5           \\\\\n",
       "\t control      & homme        & apres-1      & non          & 13           &  5           & 5            & 5           \\\\\n",
       "\t control      & femme        & apres-2      & non          &  7           &  8           & 7            & 4           \\\\\n",
       "\t experimental & homme        & avant        & non          &  2           & 12           & 4            & 6           \\\\\n",
       "\t experimental & homme        & apres-2      & oui          & 14           &  9           & 6            & 5           \\\\\n",
       "\t experimental & homme        & apres-2      & non          & 14           & 19           & 5            & 4           \\\\\n",
       "\t control      & femme        & avant        & non          &  4           & 16           & 5            & 7           \\\\\n",
       "\t experimental & femme        & apres-1      & oui          & 13           &  7           & 6            & 0           \\\\\n",
       "\t control      & femme        & avant        & non          &  7           & 14           & 4            & 8           \\\\\n",
       "\t control      & homme        & apres-2      & non          &  5           &  4           & 5            & 4           \\\\\n",
       "\t control      & femme        & avant        & oui          &  6           & 12           & 2            & 4           \\\\\n",
       "\t control      & femme        & apres-2      & oui          & 15           &  7           & 1            & 6           \\\\\n",
       "\t experimental & homme        & avant        & non          &  2           &  3           & 3            & 7           \\\\\n",
       "\t experimental & femme        & avant        & non          & 13           &  6           & 5            & 5           \\\\\n",
       "\t control      & femme        & apres-1      & non          & 13           & 16           & 1            & 1           \\\\\n",
       "\t control      & femme        & avant        & oui          &  5           & 13           & 4            & 5           \\\\\n",
       "\t control      & femme        & apres-1      & oui          & 11           &  9           & 8            & 2           \\\\\n",
       "\t experimental & femme        & avant        & non          & 15           &  8           & 2            & 2           \\\\\n",
       "\t control      & homme        & apres-2      & non          &  5           &  8           & 8            & 5           \\\\\n",
       "\t experimental & homme        & apres-1      & oui          &  3           & 15           & 3            & 3           \\\\\n",
       "\t control      & femme        & apres-2      & non          &  6           &  6           & 8            & 5           \\\\\n",
       "\t experimental & femme        & apres-1      & non          & 14           &  6           & 3            & 2           \\\\\n",
       "\t experimental & femme        & apres-1      & oui          & 15           &  6           & 6            & 8           \\\\\n",
       "\t experimental & homme        & apres-1      & non          & 13           &  8           & 2            & 7           \\\\\n",
       "\t experimental & homme        & apres-2      & non          & 14           & 11           & 6            & 7           \\\\\n",
       "\t experimental & femme        & apres-2      & non          & 11           &  5           & 4            & 7           \\\\\n",
       "\t experimental & femme        & apres-2      & non          & 14           &  7           & 6            & 8           \\\\\n",
       "\t control      & homme        & avant        & oui          &  7           &  9           & 9            & 5           \\\\\n",
       "\t experimental & femme        & avant        & oui          & 14           &  8           & 4            & 4           \\\\\n",
       "\t control      & homme        & avant        & oui          & 10           &  8           & 8            & 6           \\\\\n",
       "\t control      & homme        & apres-1      & oui          & 11           &  6           & 8            & 1           \\\\\n",
       "\t experimental & homme        & apres-2      & oui          & 14           & 10           & 4            & 8           \\\\\n",
       "\t experimental & femme        & apres-1      & oui          & 17           &  7           & 5            & 7           \\\\\n",
       "\t control      & femme        & apres-1      & non          & 13           & 14           & 8            & 2           \\\\\n",
       "\t experimental & homme        & apres-1      & non          &  3           & 15           & 1            & 7           \\\\\n",
       "\\end{tabular}\n"
      ],
      "text/markdown": [
       "\n",
       "groupe | sexe | temps | pay_ | stress | correct.1 | correct.2 | correct.3 | \n",
       "|---|---|---|---|---|---|---|---|---|---|---|---|---|---|---|---|---|---|---|---|---|---|---|---|---|---|---|---|---|---|---|---|---|---|---|---|---|---|---|---|---|---|---|---|---|---|---|---|\n",
       "| control      | femme        | apres-2      | oui          | 14           | 12           | 2            | 5            | \n",
       "| control      | homme        | apres-2      | oui          | 10           | 15           | 2            | 7            | \n",
       "| control      | homme        | apres-1      | non          | 11           |  4           | 7            | 4            | \n",
       "| experimental | femme        | apres-2      | oui          | 11           |  8           | 5            | 6            | \n",
       "| control      | homme        | apres-1      | oui          | 13           |  5           | 6            | 2            | \n",
       "| experimental | femme        | apres-1      | non          | 14           |  5           | 1            | 1            | \n",
       "| experimental | femme        | apres-2      | oui          | 10           |  6           | 6            | 9            | \n",
       "| experimental | homme        | apres-1      | oui          | 14           | 11           | 4            | 6            | \n",
       "| experimental | homme        | avant        | oui          |  1           |  7           | 6            | 0            | \n",
       "| control      | homme        | avant        | non          |  5           | 10           | 8            | 1            | \n",
       "| control      | homme        | apres-2      | oui          |  8           | 12           | 7            | 6            | \n",
       "| experimental | homme        | avant        | oui          |  2           | 11           | 7            | 3            | \n",
       "| control      | femme        | apres-1      | oui          | 12           | 10           | 9            | 3            | \n",
       "| control      | homme        | avant        | non          |  5           | 11           | 7            | 5            | \n",
       "| control      | homme        | apres-1      | non          | 13           |  5           | 5            | 5            | \n",
       "| control      | femme        | apres-2      | non          |  7           |  8           | 7            | 4            | \n",
       "| experimental | homme        | avant        | non          |  2           | 12           | 4            | 6            | \n",
       "| experimental | homme        | apres-2      | oui          | 14           |  9           | 6            | 5            | \n",
       "| experimental | homme        | apres-2      | non          | 14           | 19           | 5            | 4            | \n",
       "| control      | femme        | avant        | non          |  4           | 16           | 5            | 7            | \n",
       "| experimental | femme        | apres-1      | oui          | 13           |  7           | 6            | 0            | \n",
       "| control      | femme        | avant        | non          |  7           | 14           | 4            | 8            | \n",
       "| control      | homme        | apres-2      | non          |  5           |  4           | 5            | 4            | \n",
       "| control      | femme        | avant        | oui          |  6           | 12           | 2            | 4            | \n",
       "| control      | femme        | apres-2      | oui          | 15           |  7           | 1            | 6            | \n",
       "| experimental | homme        | avant        | non          |  2           |  3           | 3            | 7            | \n",
       "| experimental | femme        | avant        | non          | 13           |  6           | 5            | 5            | \n",
       "| control      | femme        | apres-1      | non          | 13           | 16           | 1            | 1            | \n",
       "| control      | femme        | avant        | oui          |  5           | 13           | 4            | 5            | \n",
       "| control      | femme        | apres-1      | oui          | 11           |  9           | 8            | 2            | \n",
       "| experimental | femme        | avant        | non          | 15           |  8           | 2            | 2            | \n",
       "| control      | homme        | apres-2      | non          |  5           |  8           | 8            | 5            | \n",
       "| experimental | homme        | apres-1      | oui          |  3           | 15           | 3            | 3            | \n",
       "| control      | femme        | apres-2      | non          |  6           |  6           | 8            | 5            | \n",
       "| experimental | femme        | apres-1      | non          | 14           |  6           | 3            | 2            | \n",
       "| experimental | femme        | apres-1      | oui          | 15           |  6           | 6            | 8            | \n",
       "| experimental | homme        | apres-1      | non          | 13           |  8           | 2            | 7            | \n",
       "| experimental | homme        | apres-2      | non          | 14           | 11           | 6            | 7            | \n",
       "| experimental | femme        | apres-2      | non          | 11           |  5           | 4            | 7            | \n",
       "| experimental | femme        | apres-2      | non          | 14           |  7           | 6            | 8            | \n",
       "| control      | homme        | avant        | oui          |  7           |  9           | 9            | 5            | \n",
       "| experimental | femme        | avant        | oui          | 14           |  8           | 4            | 4            | \n",
       "| control      | homme        | avant        | oui          | 10           |  8           | 8            | 6            | \n",
       "| control      | homme        | apres-1      | oui          | 11           |  6           | 8            | 1            | \n",
       "| experimental | homme        | apres-2      | oui          | 14           | 10           | 4            | 8            | \n",
       "| experimental | femme        | apres-1      | oui          | 17           |  7           | 5            | 7            | \n",
       "| control      | femme        | apres-1      | non          | 13           | 14           | 8            | 2            | \n",
       "| experimental | homme        | apres-1      | non          |  3           | 15           | 1            | 7            | \n",
       "\n",
       "\n"
      ],
      "text/plain": [
       "   groupe       sexe  temps   pay_ stress correct.1 correct.2 correct.3\n",
       "1  control      femme apres-2 oui  14     12        2         5        \n",
       "2  control      homme apres-2 oui  10     15        2         7        \n",
       "3  control      homme apres-1 non  11      4        7         4        \n",
       "4  experimental femme apres-2 oui  11      8        5         6        \n",
       "5  control      homme apres-1 oui  13      5        6         2        \n",
       "6  experimental femme apres-1 non  14      5        1         1        \n",
       "7  experimental femme apres-2 oui  10      6        6         9        \n",
       "8  experimental homme apres-1 oui  14     11        4         6        \n",
       "9  experimental homme avant   oui   1      7        6         0        \n",
       "10 control      homme avant   non   5     10        8         1        \n",
       "11 control      homme apres-2 oui   8     12        7         6        \n",
       "12 experimental homme avant   oui   2     11        7         3        \n",
       "13 control      femme apres-1 oui  12     10        9         3        \n",
       "14 control      homme avant   non   5     11        7         5        \n",
       "15 control      homme apres-1 non  13      5        5         5        \n",
       "16 control      femme apres-2 non   7      8        7         4        \n",
       "17 experimental homme avant   non   2     12        4         6        \n",
       "18 experimental homme apres-2 oui  14      9        6         5        \n",
       "19 experimental homme apres-2 non  14     19        5         4        \n",
       "20 control      femme avant   non   4     16        5         7        \n",
       "21 experimental femme apres-1 oui  13      7        6         0        \n",
       "22 control      femme avant   non   7     14        4         8        \n",
       "23 control      homme apres-2 non   5      4        5         4        \n",
       "24 control      femme avant   oui   6     12        2         4        \n",
       "25 control      femme apres-2 oui  15      7        1         6        \n",
       "26 experimental homme avant   non   2      3        3         7        \n",
       "27 experimental femme avant   non  13      6        5         5        \n",
       "28 control      femme apres-1 non  13     16        1         1        \n",
       "29 control      femme avant   oui   5     13        4         5        \n",
       "30 control      femme apres-1 oui  11      9        8         2        \n",
       "31 experimental femme avant   non  15      8        2         2        \n",
       "32 control      homme apres-2 non   5      8        8         5        \n",
       "33 experimental homme apres-1 oui   3     15        3         3        \n",
       "34 control      femme apres-2 non   6      6        8         5        \n",
       "35 experimental femme apres-1 non  14      6        3         2        \n",
       "36 experimental femme apres-1 oui  15      6        6         8        \n",
       "37 experimental homme apres-1 non  13      8        2         7        \n",
       "38 experimental homme apres-2 non  14     11        6         7        \n",
       "39 experimental femme apres-2 non  11      5        4         7        \n",
       "40 experimental femme apres-2 non  14      7        6         8        \n",
       "41 control      homme avant   oui   7      9        9         5        \n",
       "42 experimental femme avant   oui  14      8        4         4        \n",
       "43 control      homme avant   oui  10      8        8         6        \n",
       "44 control      homme apres-1 oui  11      6        8         1        \n",
       "45 experimental homme apres-2 oui  14     10        4         8        \n",
       "46 experimental femme apres-1 oui  17      7        5         7        \n",
       "47 control      femme apres-1 non  13     14        8         2        \n",
       "48 experimental homme apres-1 non   3     15        1         7        "
      ]
     },
     "metadata": {},
     "output_type": "display_data"
    }
   ],
   "source": [
    "mem # on peut voir les données elles-mêmes avec le nom de la base de données"
   ]
  },
  {
   "cell_type": "code",
   "execution_count": 21,
   "metadata": {
    "collapsed": true,
    "vscode": {
     "languageId": "r"
    }
   },
   "outputs": [],
   "source": [
    "y <- mem$stress # on peut utiliser un nom de variable plus court"
   ]
  },
  {
   "cell_type": "code",
   "execution_count": 22,
   "metadata": {
    "vscode": {
     "languageId": "r"
    }
   },
   "outputs": [
    {
     "data": {
      "text/html": [
       "<ol class=list-inline>\n",
       "\t<li>14</li>\n",
       "\t<li>10</li>\n",
       "\t<li>11</li>\n",
       "\t<li>11</li>\n",
       "\t<li>13</li>\n",
       "\t<li>14</li>\n",
       "\t<li>10</li>\n",
       "\t<li>14</li>\n",
       "\t<li>1</li>\n",
       "\t<li>5</li>\n",
       "\t<li>8</li>\n",
       "\t<li>2</li>\n",
       "\t<li>12</li>\n",
       "\t<li>5</li>\n",
       "\t<li>13</li>\n",
       "\t<li>7</li>\n",
       "\t<li>2</li>\n",
       "\t<li>14</li>\n",
       "\t<li>14</li>\n",
       "\t<li>4</li>\n",
       "\t<li>13</li>\n",
       "\t<li>7</li>\n",
       "\t<li>5</li>\n",
       "\t<li>6</li>\n",
       "\t<li>15</li>\n",
       "\t<li>2</li>\n",
       "\t<li>13</li>\n",
       "\t<li>13</li>\n",
       "\t<li>5</li>\n",
       "\t<li>11</li>\n",
       "\t<li>15</li>\n",
       "\t<li>5</li>\n",
       "\t<li>3</li>\n",
       "\t<li>6</li>\n",
       "\t<li>14</li>\n",
       "\t<li>15</li>\n",
       "\t<li>13</li>\n",
       "\t<li>14</li>\n",
       "\t<li>11</li>\n",
       "\t<li>14</li>\n",
       "\t<li>7</li>\n",
       "\t<li>14</li>\n",
       "\t<li>10</li>\n",
       "\t<li>11</li>\n",
       "\t<li>14</li>\n",
       "\t<li>17</li>\n",
       "\t<li>13</li>\n",
       "\t<li>3</li>\n",
       "</ol>\n"
      ],
      "text/latex": [
       "\\begin{enumerate*}\n",
       "\\item 14\n",
       "\\item 10\n",
       "\\item 11\n",
       "\\item 11\n",
       "\\item 13\n",
       "\\item 14\n",
       "\\item 10\n",
       "\\item 14\n",
       "\\item 1\n",
       "\\item 5\n",
       "\\item 8\n",
       "\\item 2\n",
       "\\item 12\n",
       "\\item 5\n",
       "\\item 13\n",
       "\\item 7\n",
       "\\item 2\n",
       "\\item 14\n",
       "\\item 14\n",
       "\\item 4\n",
       "\\item 13\n",
       "\\item 7\n",
       "\\item 5\n",
       "\\item 6\n",
       "\\item 15\n",
       "\\item 2\n",
       "\\item 13\n",
       "\\item 13\n",
       "\\item 5\n",
       "\\item 11\n",
       "\\item 15\n",
       "\\item 5\n",
       "\\item 3\n",
       "\\item 6\n",
       "\\item 14\n",
       "\\item 15\n",
       "\\item 13\n",
       "\\item 14\n",
       "\\item 11\n",
       "\\item 14\n",
       "\\item 7\n",
       "\\item 14\n",
       "\\item 10\n",
       "\\item 11\n",
       "\\item 14\n",
       "\\item 17\n",
       "\\item 13\n",
       "\\item 3\n",
       "\\end{enumerate*}\n"
      ],
      "text/markdown": [
       "1. 14\n",
       "2. 10\n",
       "3. 11\n",
       "4. 11\n",
       "5. 13\n",
       "6. 14\n",
       "7. 10\n",
       "8. 14\n",
       "9. 1\n",
       "10. 5\n",
       "11. 8\n",
       "12. 2\n",
       "13. 12\n",
       "14. 5\n",
       "15. 13\n",
       "16. 7\n",
       "17. 2\n",
       "18. 14\n",
       "19. 14\n",
       "20. 4\n",
       "21. 13\n",
       "22. 7\n",
       "23. 5\n",
       "24. 6\n",
       "25. 15\n",
       "26. 2\n",
       "27. 13\n",
       "28. 13\n",
       "29. 5\n",
       "30. 11\n",
       "31. 15\n",
       "32. 5\n",
       "33. 3\n",
       "34. 6\n",
       "35. 14\n",
       "36. 15\n",
       "37. 13\n",
       "38. 14\n",
       "39. 11\n",
       "40. 14\n",
       "41. 7\n",
       "42. 14\n",
       "43. 10\n",
       "44. 11\n",
       "45. 14\n",
       "46. 17\n",
       "47. 13\n",
       "48. 3\n",
       "\n",
       "\n"
      ],
      "text/plain": [
       " [1] 14 10 11 11 13 14 10 14  1  5  8  2 12  5 13  7  2 14 14  4 13  7  5  6 15\n",
       "[26]  2 13 13  5 11 15  5  3  6 14 15 13 14 11 14  7 14 10 11 14 17 13  3"
      ]
     },
     "metadata": {},
     "output_type": "display_data"
    }
   ],
   "source": [
    "y"
   ]
  },
  {
   "cell_type": "markdown",
   "metadata": {},
   "source": [
    "## 2-a) Calcul de la moyenne, écart type, 5eme et 95eme percentile"
   ]
  },
  {
   "cell_type": "code",
   "execution_count": 23,
   "metadata": {
    "vscode": {
     "languageId": "r"
    }
   },
   "outputs": [
    {
     "data": {
      "text/plain": [
       "   Min. 1st Qu.  Median    Mean 3rd Qu.    Max. \n",
       "  1.000   5.750  11.000   9.854  14.000  17.000 "
      ]
     },
     "metadata": {},
     "output_type": "display_data"
    }
   ],
   "source": [
    "summary(y)"
   ]
  },
  {
   "cell_type": "code",
   "execution_count": 24,
   "metadata": {
    "vscode": {
     "languageId": "r"
    }
   },
   "outputs": [
    {
     "data": {
      "text/html": [
       "9.85416666666667"
      ],
      "text/latex": [
       "9.85416666666667"
      ],
      "text/markdown": [
       "9.85416666666667"
      ],
      "text/plain": [
       "[1] 9.854167"
      ]
     },
     "metadata": {},
     "output_type": "display_data"
    }
   ],
   "source": [
    "mean(y)"
   ]
  },
  {
   "cell_type": "code",
   "execution_count": 25,
   "metadata": {
    "vscode": {
     "languageId": "r"
    }
   },
   "outputs": [
    {
     "data": {
      "text/html": [
       "4.49581168367131"
      ],
      "text/latex": [
       "4.49581168367131"
      ],
      "text/markdown": [
       "4.49581168367131"
      ],
      "text/plain": [
       "[1] 4.495812"
      ]
     },
     "metadata": {},
     "output_type": "display_data"
    }
   ],
   "source": [
    "sd(y)"
   ]
  },
  {
   "cell_type": "code",
   "execution_count": 26,
   "metadata": {
    "vscode": {
     "languageId": "r"
    }
   },
   "outputs": [
    {
     "data": {
      "text/html": [
       "<dl class=dl-horizontal>\n",
       "\t<dt>5%</dt>\n",
       "\t\t<dd>2</dd>\n",
       "\t<dt>95%</dt>\n",
       "\t\t<dd>15</dd>\n",
       "</dl>\n"
      ],
      "text/latex": [
       "\\begin{description*}\n",
       "\\item[5\\textbackslash{}\\%] 2\n",
       "\\item[95\\textbackslash{}\\%] 15\n",
       "\\end{description*}\n"
      ],
      "text/markdown": [
       "5%\n",
       ":   295%\n",
       ":   15\n",
       "\n"
      ],
      "text/plain": [
       " 5% 95% \n",
       "  2  15 "
      ]
     },
     "metadata": {},
     "output_type": "display_data"
    }
   ],
   "source": [
    "quantile(y,c(.05,.95))"
   ]
  },
  {
   "cell_type": "markdown",
   "metadata": {},
   "source": [
    "## 2-b) Vérification de la normalité"
   ]
  },
  {
   "cell_type": "code",
   "execution_count": 27,
   "metadata": {
    "vscode": {
     "languageId": "r"
    }
   },
   "outputs": [
    {
     "data": {
      "image/png": "[encoded data removed]",
      "text/plain": [
       "Plot with title “Normal Q-Q Plot”"
      ]
     },
     "metadata": {},
     "output_type": "display_data"
    }
   ],
   "source": [
    "qqnorm(y)\n",
    "qqline(y)"
   ]
  },
  {
   "cell_type": "markdown",
   "metadata": {},
   "source": [
    "L'hypothèse d'une distribution normale n'est pas plausible"
   ]
  },
  {
   "cell_type": "markdown",
   "metadata": {},
   "source": [
    "## 2-c) Calcul de la moyenne selon 'sexe'"
   ]
  },
  {
   "cell_type": "code",
   "execution_count": 28,
   "metadata": {
    "vscode": {
     "languageId": "r"
    }
   },
   "outputs": [
    {
     "data": {
      "text/plain": [
       "mem$sexe: femme\n",
       "[1] 11.41667\n",
       "------------------------------------------------------------ \n",
       "mem$sexe: homme\n",
       "[1] 8.291667"
      ]
     },
     "metadata": {},
     "output_type": "display_data"
    }
   ],
   "source": [
    "by(mem$stress, mem$sexe, function(x) mean(x)) # calcul de la moyenne selon 'sexe'"
   ]
  },
  {
   "cell_type": "code",
   "execution_count": 29,
   "metadata": {
    "vscode": {
     "languageId": "r"
    }
   },
   "outputs": [
    {
     "data": {
      "text/plain": [
       "mem$sexe: femme\n",
       "[1] 11.41667\n",
       "------------------------------------------------------------ \n",
       "mem$sexe: homme\n",
       "[1] 8.291667"
      ]
     },
     "metadata": {},
     "output_type": "display_data"
    }
   ],
   "source": [
    "by(y, mem$sexe, function(x) {mean(x)}) # autre façon de calculer la moyenne selon 'sexe'"
   ]
  },
  {
   "cell_type": "code",
   "execution_count": 30,
   "metadata": {
    "vscode": {
     "languageId": "r"
    }
   },
   "outputs": [
    {
     "data": {
      "text/plain": [
       "mem$sexe: femme\n",
       "[1] 13.47101\n",
       "------------------------------------------------------------ \n",
       "mem$sexe: homme\n",
       "[1] 22.73732"
      ]
     },
     "metadata": {},
     "output_type": "display_data"
    }
   ],
   "source": [
    "by(y, mem$sexe, function(x) var(x)) # calcul de la variance selon 'sexe'"
   ]
  },
  {
   "cell_type": "markdown",
   "metadata": {},
   "source": [
    "\n",
    "\n"
   ]
  },
  {
   "cell_type": "markdown",
   "metadata": {},
   "source": [
    "# Exercice 3"
   ]
  },
  {
   "cell_type": "code",
   "execution_count": 31,
   "metadata": {
    "collapsed": true,
    "vscode": {
     "languageId": "r"
    }
   },
   "outputs": [],
   "source": [
    "web <- read.csv2(\"Sites_web.csv\")\n",
    "# si la commande ne focntionne pas, essayer celle-ci\n",
    "# web <- read.csv(Sites_web.csv\", header = TRUE, sep = \";\",dec = \".\")"
   ]
  },
  {
   "cell_type": "code",
   "execution_count": 32,
   "metadata": {
    "vscode": {
     "languageId": "r"
    }
   },
   "outputs": [
    {
     "name": "stdout",
     "output_type": "stream",
     "text": [
      "'data.frame':\t73 obs. of  8 variables:\n",
      " $ no                    : int  1 2 3 4 5 6 7 8 9 10 ...\n",
      " $ nbre.de.sites.livres  : int  1 2 7 2 1 10 10 1 1 6 ...\n",
      " $ carnet.de.commandes   : int  12 18 26 28 36 45 36 18 25 28 ...\n",
      " $ no.equipe             : int  1 1 1 1 1 1 1 2 2 2 ...\n",
      " $ experience.de.l.equipe: int  3 6 9 12 15 18 21 3 6 9 ...\n",
      " $ processus.modifie     : int  0 0 0 0 0 1 1 0 0 0 ...\n",
      " $ annee                 : int  2001 2001 2001 2001 2002 2002 2002 2001 2001 2001 ...\n",
      " $ trimestre             : int  1 2 3 4 1 2 3 1 2 3 ...\n"
     ]
    }
   ],
   "source": [
    "str(web)"
   ]
  },
  {
   "cell_type": "code",
   "execution_count": 33,
   "metadata": {
    "vscode": {
     "languageId": "r"
    }
   },
   "outputs": [
    {
     "data": {
      "text/html": [
       "<table>\n",
       "<thead><tr><th scope=col>no</th><th scope=col>nbre.de.sites.livres</th><th scope=col>carnet.de.commandes</th><th scope=col>no.equipe</th><th scope=col>experience.de.l.equipe</th><th scope=col>processus.modifie</th><th scope=col>annee</th><th scope=col>trimestre</th></tr></thead>\n",
       "<tbody>\n",
       "\t<tr><td> 1  </td><td> 1  </td><td>12  </td><td>1   </td><td> 3  </td><td>0   </td><td>2001</td><td>1   </td></tr>\n",
       "\t<tr><td> 2  </td><td> 2  </td><td>18  </td><td>1   </td><td> 6  </td><td>0   </td><td>2001</td><td>2   </td></tr>\n",
       "\t<tr><td> 3  </td><td> 7  </td><td>26  </td><td>1   </td><td> 9  </td><td>0   </td><td>2001</td><td>3   </td></tr>\n",
       "\t<tr><td> 4  </td><td> 2  </td><td>28  </td><td>1   </td><td>12  </td><td>0   </td><td>2001</td><td>4   </td></tr>\n",
       "\t<tr><td> 5  </td><td> 1  </td><td>36  </td><td>1   </td><td>15  </td><td>0   </td><td>2002</td><td>1   </td></tr>\n",
       "\t<tr><td> 6  </td><td>10  </td><td>45  </td><td>1   </td><td>18  </td><td>1   </td><td>2002</td><td>2   </td></tr>\n",
       "\t<tr><td> 7  </td><td>10  </td><td>36  </td><td>1   </td><td>21  </td><td>1   </td><td>2002</td><td>3   </td></tr>\n",
       "\t<tr><td> 8  </td><td> 1  </td><td>18  </td><td>2   </td><td> 3  </td><td>0   </td><td>2001</td><td>1   </td></tr>\n",
       "\t<tr><td> 9  </td><td> 1  </td><td>25  </td><td>2   </td><td> 6  </td><td>0   </td><td>2001</td><td>2   </td></tr>\n",
       "\t<tr><td>10  </td><td> 6  </td><td>28  </td><td>2   </td><td> 9  </td><td>0   </td><td>2001</td><td>3   </td></tr>\n",
       "\t<tr><td>11  </td><td> 5  </td><td>28  </td><td>2   </td><td>12  </td><td>0   </td><td>2001</td><td>4   </td></tr>\n",
       "\t<tr><td>12  </td><td>11  </td><td>38  </td><td>2   </td><td>15  </td><td>0   </td><td>2002</td><td>1   </td></tr>\n",
       "\t<tr><td>13  </td><td>15  </td><td>38  </td><td>2   </td><td>18  </td><td>1   </td><td>2002</td><td>2   </td></tr>\n",
       "\t<tr><td>14  </td><td>13  </td><td>34  </td><td>2   </td><td>21  </td><td>1   </td><td>2002</td><td>3   </td></tr>\n",
       "\t<tr><td>15  </td><td> 3  </td><td>18  </td><td>3   </td><td> 3  </td><td>0   </td><td>2001</td><td>1   </td></tr>\n",
       "\t<tr><td>16  </td><td> 3  </td><td>23  </td><td>3   </td><td> 6  </td><td>0   </td><td>2001</td><td>2   </td></tr>\n",
       "\t<tr><td>17  </td><td>13  </td><td>29  </td><td>3   </td><td> 9  </td><td>0   </td><td>2001</td><td>3   </td></tr>\n",
       "\t<tr><td>18  </td><td> 6  </td><td>24  </td><td>3   </td><td>12  </td><td>0   </td><td>2001</td><td>4   </td></tr>\n",
       "\t<tr><td>19  </td><td> 2  </td><td>32  </td><td>3   </td><td>15  </td><td>0   </td><td>2002</td><td>1   </td></tr>\n",
       "\t<tr><td>20  </td><td>11  </td><td>41  </td><td>3   </td><td>18  </td><td>1   </td><td>2002</td><td>2   </td></tr>\n",
       "\t<tr><td>21  </td><td> 3  </td><td>33  </td><td>3   </td><td>21  </td><td>1   </td><td>2002</td><td>3   </td></tr>\n",
       "\t<tr><td>22  </td><td> 7  </td><td>21  </td><td>4   </td><td> 3  </td><td>0   </td><td>2001</td><td>1   </td></tr>\n",
       "\t<tr><td>23  </td><td>12  </td><td>22  </td><td>4   </td><td> 6  </td><td>0   </td><td>2001</td><td>2   </td></tr>\n",
       "\t<tr><td>24  </td><td> 7  </td><td>25  </td><td>4   </td><td> 9  </td><td>0   </td><td>2001</td><td>3   </td></tr>\n",
       "\t<tr><td>25  </td><td> 1  </td><td>27  </td><td>4   </td><td>12  </td><td>0   </td><td>2001</td><td>4   </td></tr>\n",
       "\t<tr><td>26  </td><td>10  </td><td>37  </td><td>4   </td><td>15  </td><td>0   </td><td>2002</td><td>1   </td></tr>\n",
       "\t<tr><td>27  </td><td>12  </td><td>38  </td><td>4   </td><td>18  </td><td>1   </td><td>2002</td><td>2   </td></tr>\n",
       "\t<tr><td>28  </td><td> 8  </td><td>34  </td><td>4   </td><td>21  </td><td>1   </td><td>2002</td><td>3   </td></tr>\n",
       "\t<tr><td>29  </td><td> 1  </td><td>19  </td><td>5   </td><td> 3  </td><td>0   </td><td>2001</td><td>1   </td></tr>\n",
       "\t<tr><td>30  </td><td> 8  </td><td>25  </td><td>5   </td><td> 6  </td><td>0   </td><td>2001</td><td>2   </td></tr>\n",
       "\t<tr><td>⋮</td><td>⋮</td><td>⋮</td><td>⋮</td><td>⋮</td><td>⋮</td><td>⋮</td><td>⋮</td></tr>\n",
       "\t<tr><td>44  </td><td>11  </td><td>34  </td><td> 7  </td><td> 7  </td><td>0   </td><td>2002</td><td>1   </td></tr>\n",
       "\t<tr><td>45  </td><td>16  </td><td>31  </td><td> 7  </td><td>10  </td><td>1   </td><td>2002</td><td>2   </td></tr>\n",
       "\t<tr><td>46  </td><td>27  </td><td>26  </td><td> 7  </td><td>13  </td><td>1   </td><td>2002</td><td>3   </td></tr>\n",
       "\t<tr><td>47  </td><td> 5  </td><td>18  </td><td> 8  </td><td> 5  </td><td>0   </td><td>2001</td><td>4   </td></tr>\n",
       "\t<tr><td>48  </td><td> 6  </td><td>35  </td><td> 8  </td><td> 8  </td><td>0   </td><td>2002</td><td>1   </td></tr>\n",
       "\t<tr><td>49  </td><td>22  </td><td>38  </td><td> 8  </td><td>11  </td><td>1   </td><td>2002</td><td>2   </td></tr>\n",
       "\t<tr><td>50  </td><td>30  </td><td>29  </td><td> 8  </td><td>14  </td><td>1   </td><td>2002</td><td>3   </td></tr>\n",
       "\t<tr><td>51  </td><td> 6  </td><td>12  </td><td> 9  </td><td> 3  </td><td>0   </td><td>2001</td><td>2   </td></tr>\n",
       "\t<tr><td>52  </td><td>13  </td><td>23  </td><td> 9  </td><td> 6  </td><td>0   </td><td>2001</td><td>3   </td></tr>\n",
       "\t<tr><td>53  </td><td> 6  </td><td>21  </td><td> 9  </td><td> 9  </td><td>0   </td><td>2001</td><td>4   </td></tr>\n",
       "\t<tr><td>54  </td><td> 5  </td><td>33  </td><td> 9  </td><td>12  </td><td>0   </td><td>2002</td><td>1   </td></tr>\n",
       "\t<tr><td>55  </td><td>19  </td><td>37  </td><td> 9  </td><td>15  </td><td>1   </td><td>2002</td><td>2   </td></tr>\n",
       "\t<tr><td>56  </td><td>22  </td><td>27  </td><td> 9  </td><td>18  </td><td>1   </td><td>2002</td><td>3   </td></tr>\n",
       "\t<tr><td>57  </td><td> 7  </td><td>18  </td><td>10  </td><td> 4  </td><td>0   </td><td>2001</td><td>3   </td></tr>\n",
       "\t<tr><td>58  </td><td> 9  </td><td>20  </td><td>10  </td><td> 7  </td><td>0   </td><td>2001</td><td>4   </td></tr>\n",
       "\t<tr><td>59  </td><td> 8  </td><td>33  </td><td>10  </td><td>10  </td><td>0   </td><td>2002</td><td>1   </td></tr>\n",
       "\t<tr><td>60  </td><td> 7  </td><td>33  </td><td>10  </td><td>13  </td><td>1   </td><td>2002</td><td>2   </td></tr>\n",
       "\t<tr><td>61  </td><td> 6  </td><td>33  </td><td>10  </td><td>16  </td><td>1   </td><td>2002</td><td>3   </td></tr>\n",
       "\t<tr><td>62  </td><td> 3  </td><td>23  </td><td>11  </td><td> 5  </td><td>0   </td><td>2002</td><td>1   </td></tr>\n",
       "\t<tr><td>63  </td><td>13  </td><td>34  </td><td>11  </td><td> 8  </td><td>1   </td><td>2002</td><td>2   </td></tr>\n",
       "\t<tr><td>64  </td><td>21  </td><td>29  </td><td>11  </td><td>11  </td><td>1   </td><td>2002</td><td>3   </td></tr>\n",
       "\t<tr><td>65  </td><td> 7  </td><td> 3  </td><td>12  </td><td> 3  </td><td>1   </td><td>2002</td><td>2   </td></tr>\n",
       "\t<tr><td>66  </td><td>22  </td><td>25  </td><td>12  </td><td> 6  </td><td>1   </td><td>2002</td><td>3   </td></tr>\n",
       "\t<tr><td>67  </td><td> 0  </td><td>15  </td><td>13  </td><td> 2  </td><td>0   </td><td>2001</td><td>1   </td></tr>\n",
       "\t<tr><td>68  </td><td> 2  </td><td>24  </td><td>13  </td><td> 5  </td><td>0   </td><td>2001</td><td>2   </td></tr>\n",
       "\t<tr><td>69  </td><td> 2  </td><td>27  </td><td>13  </td><td> 8  </td><td>0   </td><td>2001</td><td>3   </td></tr>\n",
       "\t<tr><td>70  </td><td> 7  </td><td>28  </td><td>13  </td><td>11  </td><td>0   </td><td>2001</td><td>4   </td></tr>\n",
       "\t<tr><td>71  </td><td> 7  </td><td>36  </td><td>13  </td><td>14  </td><td>0   </td><td>2002</td><td>1   </td></tr>\n",
       "\t<tr><td>72  </td><td>19  </td><td>37  </td><td>13  </td><td>17  </td><td>1   </td><td>2002</td><td>2   </td></tr>\n",
       "\t<tr><td>73  </td><td>12  </td><td>26  </td><td>13  </td><td>20  </td><td>1   </td><td>2002</td><td>3   </td></tr>\n",
       "</tbody>\n",
       "</table>\n"
      ],
      "text/latex": [
       "\\begin{tabular}{r|llllllll}\n",
       " no & nbre.de.sites.livres & carnet.de.commandes & no.equipe & experience.de.l.equipe & processus.modifie & annee & trimestre\\\\\n",
       "\\hline\n",
       "\t  1   &  1   & 12   & 1    &  3   & 0    & 2001 & 1   \\\\\n",
       "\t  2   &  2   & 18   & 1    &  6   & 0    & 2001 & 2   \\\\\n",
       "\t  3   &  7   & 26   & 1    &  9   & 0    & 2001 & 3   \\\\\n",
       "\t  4   &  2   & 28   & 1    & 12   & 0    & 2001 & 4   \\\\\n",
       "\t  5   &  1   & 36   & 1    & 15   & 0    & 2002 & 1   \\\\\n",
       "\t  6   & 10   & 45   & 1    & 18   & 1    & 2002 & 2   \\\\\n",
       "\t  7   & 10   & 36   & 1    & 21   & 1    & 2002 & 3   \\\\\n",
       "\t  8   &  1   & 18   & 2    &  3   & 0    & 2001 & 1   \\\\\n",
       "\t  9   &  1   & 25   & 2    &  6   & 0    & 2001 & 2   \\\\\n",
       "\t 10   &  6   & 28   & 2    &  9   & 0    & 2001 & 3   \\\\\n",
       "\t 11   &  5   & 28   & 2    & 12   & 0    & 2001 & 4   \\\\\n",
       "\t 12   & 11   & 38   & 2    & 15   & 0    & 2002 & 1   \\\\\n",
       "\t 13   & 15   & 38   & 2    & 18   & 1    & 2002 & 2   \\\\\n",
       "\t 14   & 13   & 34   & 2    & 21   & 1    & 2002 & 3   \\\\\n",
       "\t 15   &  3   & 18   & 3    &  3   & 0    & 2001 & 1   \\\\\n",
       "\t 16   &  3   & 23   & 3    &  6   & 0    & 2001 & 2   \\\\\n",
       "\t 17   & 13   & 29   & 3    &  9   & 0    & 2001 & 3   \\\\\n",
       "\t 18   &  6   & 24   & 3    & 12   & 0    & 2001 & 4   \\\\\n",
       "\t 19   &  2   & 32   & 3    & 15   & 0    & 2002 & 1   \\\\\n",
       "\t 20   & 11   & 41   & 3    & 18   & 1    & 2002 & 2   \\\\\n",
       "\t 21   &  3   & 33   & 3    & 21   & 1    & 2002 & 3   \\\\\n",
       "\t 22   &  7   & 21   & 4    &  3   & 0    & 2001 & 1   \\\\\n",
       "\t 23   & 12   & 22   & 4    &  6   & 0    & 2001 & 2   \\\\\n",
       "\t 24   &  7   & 25   & 4    &  9   & 0    & 2001 & 3   \\\\\n",
       "\t 25   &  1   & 27   & 4    & 12   & 0    & 2001 & 4   \\\\\n",
       "\t 26   & 10   & 37   & 4    & 15   & 0    & 2002 & 1   \\\\\n",
       "\t 27   & 12   & 38   & 4    & 18   & 1    & 2002 & 2   \\\\\n",
       "\t 28   &  8   & 34   & 4    & 21   & 1    & 2002 & 3   \\\\\n",
       "\t 29   &  1   & 19   & 5    &  3   & 0    & 2001 & 1   \\\\\n",
       "\t 30   &  8   & 25   & 5    &  6   & 0    & 2001 & 2   \\\\\n",
       "\t ⋮ & ⋮ & ⋮ & ⋮ & ⋮ & ⋮ & ⋮ & ⋮\\\\\n",
       "\t 44   & 11   & 34   &  7   &  7   & 0    & 2002 & 1   \\\\\n",
       "\t 45   & 16   & 31   &  7   & 10   & 1    & 2002 & 2   \\\\\n",
       "\t 46   & 27   & 26   &  7   & 13   & 1    & 2002 & 3   \\\\\n",
       "\t 47   &  5   & 18   &  8   &  5   & 0    & 2001 & 4   \\\\\n",
       "\t 48   &  6   & 35   &  8   &  8   & 0    & 2002 & 1   \\\\\n",
       "\t 49   & 22   & 38   &  8   & 11   & 1    & 2002 & 2   \\\\\n",
       "\t 50   & 30   & 29   &  8   & 14   & 1    & 2002 & 3   \\\\\n",
       "\t 51   &  6   & 12   &  9   &  3   & 0    & 2001 & 2   \\\\\n",
       "\t 52   & 13   & 23   &  9   &  6   & 0    & 2001 & 3   \\\\\n",
       "\t 53   &  6   & 21   &  9   &  9   & 0    & 2001 & 4   \\\\\n",
       "\t 54   &  5   & 33   &  9   & 12   & 0    & 2002 & 1   \\\\\n",
       "\t 55   & 19   & 37   &  9   & 15   & 1    & 2002 & 2   \\\\\n",
       "\t 56   & 22   & 27   &  9   & 18   & 1    & 2002 & 3   \\\\\n",
       "\t 57   &  7   & 18   & 10   &  4   & 0    & 2001 & 3   \\\\\n",
       "\t 58   &  9   & 20   & 10   &  7   & 0    & 2001 & 4   \\\\\n",
       "\t 59   &  8   & 33   & 10   & 10   & 0    & 2002 & 1   \\\\\n",
       "\t 60   &  7   & 33   & 10   & 13   & 1    & 2002 & 2   \\\\\n",
       "\t 61   &  6   & 33   & 10   & 16   & 1    & 2002 & 3   \\\\\n",
       "\t 62   &  3   & 23   & 11   &  5   & 0    & 2002 & 1   \\\\\n",
       "\t 63   & 13   & 34   & 11   &  8   & 1    & 2002 & 2   \\\\\n",
       "\t 64   & 21   & 29   & 11   & 11   & 1    & 2002 & 3   \\\\\n",
       "\t 65   &  7   &  3   & 12   &  3   & 1    & 2002 & 2   \\\\\n",
       "\t 66   & 22   & 25   & 12   &  6   & 1    & 2002 & 3   \\\\\n",
       "\t 67   &  0   & 15   & 13   &  2   & 0    & 2001 & 1   \\\\\n",
       "\t 68   &  2   & 24   & 13   &  5   & 0    & 2001 & 2   \\\\\n",
       "\t 69   &  2   & 27   & 13   &  8   & 0    & 2001 & 3   \\\\\n",
       "\t 70   &  7   & 28   & 13   & 11   & 0    & 2001 & 4   \\\\\n",
       "\t 71   &  7   & 36   & 13   & 14   & 0    & 2002 & 1   \\\\\n",
       "\t 72   & 19   & 37   & 13   & 17   & 1    & 2002 & 2   \\\\\n",
       "\t 73   & 12   & 26   & 13   & 20   & 1    & 2002 & 3   \\\\\n",
       "\\end{tabular}\n"
      ],
      "text/markdown": [
       "\n",
       "no | nbre.de.sites.livres | carnet.de.commandes | no.equipe | experience.de.l.equipe | processus.modifie | annee | trimestre | \n",
       "|---|---|---|---|---|---|---|---|---|---|---|---|---|---|---|---|---|---|---|---|---|---|---|---|---|---|---|---|---|---|---|---|---|---|---|---|---|---|---|---|---|---|---|---|---|---|---|---|---|---|---|---|---|---|---|---|---|---|---|---|---|\n",
       "|  1   |  1   | 12   | 1    |  3   | 0    | 2001 | 1    | \n",
       "|  2   |  2   | 18   | 1    |  6   | 0    | 2001 | 2    | \n",
       "|  3   |  7   | 26   | 1    |  9   | 0    | 2001 | 3    | \n",
       "|  4   |  2   | 28   | 1    | 12   | 0    | 2001 | 4    | \n",
       "|  5   |  1   | 36   | 1    | 15   | 0    | 2002 | 1    | \n",
       "|  6   | 10   | 45   | 1    | 18   | 1    | 2002 | 2    | \n",
       "|  7   | 10   | 36   | 1    | 21   | 1    | 2002 | 3    | \n",
       "|  8   |  1   | 18   | 2    |  3   | 0    | 2001 | 1    | \n",
       "|  9   |  1   | 25   | 2    |  6   | 0    | 2001 | 2    | \n",
       "| 10   |  6   | 28   | 2    |  9   | 0    | 2001 | 3    | \n",
       "| 11   |  5   | 28   | 2    | 12   | 0    | 2001 | 4    | \n",
       "| 12   | 11   | 38   | 2    | 15   | 0    | 2002 | 1    | \n",
       "| 13   | 15   | 38   | 2    | 18   | 1    | 2002 | 2    | \n",
       "| 14   | 13   | 34   | 2    | 21   | 1    | 2002 | 3    | \n",
       "| 15   |  3   | 18   | 3    |  3   | 0    | 2001 | 1    | \n",
       "| 16   |  3   | 23   | 3    |  6   | 0    | 2001 | 2    | \n",
       "| 17   | 13   | 29   | 3    |  9   | 0    | 2001 | 3    | \n",
       "| 18   |  6   | 24   | 3    | 12   | 0    | 2001 | 4    | \n",
       "| 19   |  2   | 32   | 3    | 15   | 0    | 2002 | 1    | \n",
       "| 20   | 11   | 41   | 3    | 18   | 1    | 2002 | 2    | \n",
       "| 21   |  3   | 33   | 3    | 21   | 1    | 2002 | 3    | \n",
       "| 22   |  7   | 21   | 4    |  3   | 0    | 2001 | 1    | \n",
       "| 23   | 12   | 22   | 4    |  6   | 0    | 2001 | 2    | \n",
       "| 24   |  7   | 25   | 4    |  9   | 0    | 2001 | 3    | \n",
       "| 25   |  1   | 27   | 4    | 12   | 0    | 2001 | 4    | \n",
       "| 26   | 10   | 37   | 4    | 15   | 0    | 2002 | 1    | \n",
       "| 27   | 12   | 38   | 4    | 18   | 1    | 2002 | 2    | \n",
       "| 28   |  8   | 34   | 4    | 21   | 1    | 2002 | 3    | \n",
       "| 29   |  1   | 19   | 5    |  3   | 0    | 2001 | 1    | \n",
       "| 30   |  8   | 25   | 5    |  6   | 0    | 2001 | 2    | \n",
       "| ⋮ | ⋮ | ⋮ | ⋮ | ⋮ | ⋮ | ⋮ | ⋮ | \n",
       "| 44   | 11   | 34   |  7   |  7   | 0    | 2002 | 1    | \n",
       "| 45   | 16   | 31   |  7   | 10   | 1    | 2002 | 2    | \n",
       "| 46   | 27   | 26   |  7   | 13   | 1    | 2002 | 3    | \n",
       "| 47   |  5   | 18   |  8   |  5   | 0    | 2001 | 4    | \n",
       "| 48   |  6   | 35   |  8   |  8   | 0    | 2002 | 1    | \n",
       "| 49   | 22   | 38   |  8   | 11   | 1    | 2002 | 2    | \n",
       "| 50   | 30   | 29   |  8   | 14   | 1    | 2002 | 3    | \n",
       "| 51   |  6   | 12   |  9   |  3   | 0    | 2001 | 2    | \n",
       "| 52   | 13   | 23   |  9   |  6   | 0    | 2001 | 3    | \n",
       "| 53   |  6   | 21   |  9   |  9   | 0    | 2001 | 4    | \n",
       "| 54   |  5   | 33   |  9   | 12   | 0    | 2002 | 1    | \n",
       "| 55   | 19   | 37   |  9   | 15   | 1    | 2002 | 2    | \n",
       "| 56   | 22   | 27   |  9   | 18   | 1    | 2002 | 3    | \n",
       "| 57   |  7   | 18   | 10   |  4   | 0    | 2001 | 3    | \n",
       "| 58   |  9   | 20   | 10   |  7   | 0    | 2001 | 4    | \n",
       "| 59   |  8   | 33   | 10   | 10   | 0    | 2002 | 1    | \n",
       "| 60   |  7   | 33   | 10   | 13   | 1    | 2002 | 2    | \n",
       "| 61   |  6   | 33   | 10   | 16   | 1    | 2002 | 3    | \n",
       "| 62   |  3   | 23   | 11   |  5   | 0    | 2002 | 1    | \n",
       "| 63   | 13   | 34   | 11   |  8   | 1    | 2002 | 2    | \n",
       "| 64   | 21   | 29   | 11   | 11   | 1    | 2002 | 3    | \n",
       "| 65   |  7   |  3   | 12   |  3   | 1    | 2002 | 2    | \n",
       "| 66   | 22   | 25   | 12   |  6   | 1    | 2002 | 3    | \n",
       "| 67   |  0   | 15   | 13   |  2   | 0    | 2001 | 1    | \n",
       "| 68   |  2   | 24   | 13   |  5   | 0    | 2001 | 2    | \n",
       "| 69   |  2   | 27   | 13   |  8   | 0    | 2001 | 3    | \n",
       "| 70   |  7   | 28   | 13   | 11   | 0    | 2001 | 4    | \n",
       "| 71   |  7   | 36   | 13   | 14   | 0    | 2002 | 1    | \n",
       "| 72   | 19   | 37   | 13   | 17   | 1    | 2002 | 2    | \n",
       "| 73   | 12   | 26   | 13   | 20   | 1    | 2002 | 3    | \n",
       "\n",
       "\n"
      ],
      "text/plain": [
       "   no nbre.de.sites.livres carnet.de.commandes no.equipe experience.de.l.equipe\n",
       "1   1  1                   12                  1          3                    \n",
       "2   2  2                   18                  1          6                    \n",
       "3   3  7                   26                  1          9                    \n",
       "4   4  2                   28                  1         12                    \n",
       "5   5  1                   36                  1         15                    \n",
       "6   6 10                   45                  1         18                    \n",
       "7   7 10                   36                  1         21                    \n",
       "8   8  1                   18                  2          3                    \n",
       "9   9  1                   25                  2          6                    \n",
       "10 10  6                   28                  2          9                    \n",
       "11 11  5                   28                  2         12                    \n",
       "12 12 11                   38                  2         15                    \n",
       "13 13 15                   38                  2         18                    \n",
       "14 14 13                   34                  2         21                    \n",
       "15 15  3                   18                  3          3                    \n",
       "16 16  3                   23                  3          6                    \n",
       "17 17 13                   29                  3          9                    \n",
       "18 18  6                   24                  3         12                    \n",
       "19 19  2                   32                  3         15                    \n",
       "20 20 11                   41                  3         18                    \n",
       "21 21  3                   33                  3         21                    \n",
       "22 22  7                   21                  4          3                    \n",
       "23 23 12                   22                  4          6                    \n",
       "24 24  7                   25                  4          9                    \n",
       "25 25  1                   27                  4         12                    \n",
       "26 26 10                   37                  4         15                    \n",
       "27 27 12                   38                  4         18                    \n",
       "28 28  8                   34                  4         21                    \n",
       "29 29  1                   19                  5          3                    \n",
       "30 30  8                   25                  5          6                    \n",
       "⋮  ⋮  ⋮                    ⋮                   ⋮         ⋮                     \n",
       "44 44 11                   34                   7         7                    \n",
       "45 45 16                   31                   7        10                    \n",
       "46 46 27                   26                   7        13                    \n",
       "47 47  5                   18                   8         5                    \n",
       "48 48  6                   35                   8         8                    \n",
       "49 49 22                   38                   8        11                    \n",
       "50 50 30                   29                   8        14                    \n",
       "51 51  6                   12                   9         3                    \n",
       "52 52 13                   23                   9         6                    \n",
       "53 53  6                   21                   9         9                    \n",
       "54 54  5                   33                   9        12                    \n",
       "55 55 19                   37                   9        15                    \n",
       "56 56 22                   27                   9        18                    \n",
       "57 57  7                   18                  10         4                    \n",
       "58 58  9                   20                  10         7                    \n",
       "59 59  8                   33                  10        10                    \n",
       "60 60  7                   33                  10        13                    \n",
       "61 61  6                   33                  10        16                    \n",
       "62 62  3                   23                  11         5                    \n",
       "63 63 13                   34                  11         8                    \n",
       "64 64 21                   29                  11        11                    \n",
       "65 65  7                    3                  12         3                    \n",
       "66 66 22                   25                  12         6                    \n",
       "67 67  0                   15                  13         2                    \n",
       "68 68  2                   24                  13         5                    \n",
       "69 69  2                   27                  13         8                    \n",
       "70 70  7                   28                  13        11                    \n",
       "71 71  7                   36                  13        14                    \n",
       "72 72 19                   37                  13        17                    \n",
       "73 73 12                   26                  13        20                    \n",
       "   processus.modifie annee trimestre\n",
       "1  0                 2001  1        \n",
       "2  0                 2001  2        \n",
       "3  0                 2001  3        \n",
       "4  0                 2001  4        \n",
       "5  0                 2002  1        \n",
       "6  1                 2002  2        \n",
       "7  1                 2002  3        \n",
       "8  0                 2001  1        \n",
       "9  0                 2001  2        \n",
       "10 0                 2001  3        \n",
       "11 0                 2001  4        \n",
       "12 0                 2002  1        \n",
       "13 1                 2002  2        \n",
       "14 1                 2002  3        \n",
       "15 0                 2001  1        \n",
       "16 0                 2001  2        \n",
       "17 0                 2001  3        \n",
       "18 0                 2001  4        \n",
       "19 0                 2002  1        \n",
       "20 1                 2002  2        \n",
       "21 1                 2002  3        \n",
       "22 0                 2001  1        \n",
       "23 0                 2001  2        \n",
       "24 0                 2001  3        \n",
       "25 0                 2001  4        \n",
       "26 0                 2002  1        \n",
       "27 1                 2002  2        \n",
       "28 1                 2002  3        \n",
       "29 0                 2001  1        \n",
       "30 0                 2001  2        \n",
       "⋮  ⋮                 ⋮     ⋮        \n",
       "44 0                 2002  1        \n",
       "45 1                 2002  2        \n",
       "46 1                 2002  3        \n",
       "47 0                 2001  4        \n",
       "48 0                 2002  1        \n",
       "49 1                 2002  2        \n",
       "50 1                 2002  3        \n",
       "51 0                 2001  2        \n",
       "52 0                 2001  3        \n",
       "53 0                 2001  4        \n",
       "54 0                 2002  1        \n",
       "55 1                 2002  2        \n",
       "56 1                 2002  3        \n",
       "57 0                 2001  3        \n",
       "58 0                 2001  4        \n",
       "59 0                 2002  1        \n",
       "60 1                 2002  2        \n",
       "61 1                 2002  3        \n",
       "62 0                 2002  1        \n",
       "63 1                 2002  2        \n",
       "64 1                 2002  3        \n",
       "65 1                 2002  2        \n",
       "66 1                 2002  3        \n",
       "67 0                 2001  1        \n",
       "68 0                 2001  2        \n",
       "69 0                 2001  3        \n",
       "70 0                 2001  4        \n",
       "71 0                 2002  1        \n",
       "72 1                 2002  2        \n",
       "73 1                 2002  3        "
      ]
     },
     "metadata": {},
     "output_type": "display_data"
    }
   ],
   "source": [
    "web"
   ]
  },
  {
   "cell_type": "code",
   "execution_count": 34,
   "metadata": {
    "vscode": {
     "languageId": "r"
    }
   },
   "outputs": [],
   "source": [
    "# ceci n'est pas nécessaire :\n",
    "# attribuons de noms plus courts aux variables de la base de données\n",
    "v1 <- web$no\n",
    "v2 <- web$nbre.de.sites.livres\n",
    "v3 <- web$carnet.de.commandes\n",
    "v4 <- web$no.equipe\n",
    "v5 <- web$experience.de.l.equipe\n",
    "v6 <- web$processus.modifie\n",
    "v7 <- web$annee\n",
    "v8 <- web$trimestre"
   ]
  },
  {
   "cell_type": "markdown",
   "metadata": {},
   "source": [
    "## 3-a)"
   ]
  },
  {
   "cell_type": "code",
   "execution_count": 35,
   "metadata": {
    "vscode": {
     "languageId": "r"
    }
   },
   "outputs": [
    {
     "data": {
      "text/plain": [
       "   Min. 1st Qu.  Median    Mean 3rd Qu.    Max. \n",
       "  0.000   3.000   7.000   9.041  13.000  30.000 "
      ]
     },
     "metadata": {},
     "output_type": "display_data"
    },
    {
     "name": "stdout",
     "output_type": "stream",
     "text": [
      "moyenne = 9.041096 , médiane = 7 , écart-type =  7.083703 , coefficient de variation =  0.7835004"
     ]
    }
   ],
   "source": [
    "summary(v2)\n",
    "s2<-sd(v2)\n",
    "cv2<-sd(v2)/mean(v2)\n",
    "cat('moyenne =',mean(v2),', médiane =',median(v2),', écart-type = ', s2,\n",
    "   ', coefficient de variation = ', cv2 )"
   ]
  },
  {
   "cell_type": "code",
   "execution_count": 36,
   "metadata": {
    "vscode": {
     "languageId": "r"
    }
   },
   "outputs": [
    {
     "data": {
      "text/plain": [
       "   Min. 1st Qu.  Median    Mean 3rd Qu.    Max. \n",
       "   3.00   23.00   28.00   27.82   34.00   45.00 "
      ]
     },
     "metadata": {},
     "output_type": "display_data"
    },
    {
     "name": "stdout",
     "output_type": "stream",
     "text": [
      "moyenne = 27.82192 , médiane = 28 , écart-type =  7.976254 , coefficient de variation =  0.2866896"
     ]
    }
   ],
   "source": [
    "summary(v3)\n",
    "s3<-sd(v3)\n",
    "cv3<-sd(v3)/mean(v3)\n",
    "cat('moyenne =',mean(v3),', médiane =',median(v3),', écart-type = ', s3,\n",
    "   ', coefficient de variation = ', cv3 )"
   ]
  },
  {
   "cell_type": "markdown",
   "metadata": {},
   "source": [
    "## 3-b)"
   ]
  },
  {
   "cell_type": "code",
   "execution_count": 37,
   "metadata": {
    "vscode": {
     "languageId": "r"
    }
   },
   "outputs": [
    {
     "data": {
      "image/png": "[encoded data removed]",
      "text/plain": [
       "Plot with title “Équipe 2”"
      ]
     },
     "metadata": {},
     "output_type": "display_data"
    }
   ],
   "source": [
    "layout(matrix(1:2,1,2)) # ceci permet de diviser la sortie graphique en 2\n",
    "plot(v2[v4==1],v3[v4==1],main=\"Équipe 1\",col=\"green\",lwd=2,\n",
    "     xlab=\"Nombre de commandes\",ylab=\"Nombre de sites\")\n",
    "plot(v2[v4==2],v3[v4==2],main=\"Équipe 2\",col=\"blue\", lwd=2,\n",
    "     xlab=\"Nombre de commandes\",ylab=\"Nombre de sites\")"
   ]
  },
  {
   "cell_type": "code",
   "execution_count": 38,
   "metadata": {
    "scrolled": true,
    "vscode": {
     "languageId": "r"
    }
   },
   "outputs": [
    {
     "data": {
      "image/png": "[encoded data removed]",
      "text/plain": [
       "Plot with title “Équipe 2”"
      ]
     },
     "metadata": {},
     "output_type": "display_data"
    }
   ],
   "source": [
    "layout(matrix(1:2,1,2)) # ceci permet de diviser la sortie graphique en 2\n",
    "plot(v2[v4==1],v5[v4==1],main=\"Équipe 1\",col=\"green\",lwd=2,\n",
    "     xlab=\"Nombre de commandes\",ylab=\"Expérience\")\n",
    "plot(v2[v4==2],v5[v4==2],main=\"Équipe 2\",col=\"blue\", lwd=2,\n",
    "     xlab=\"Nombre de commandes\",ylab=\"Expérience\")"
   ]
  },
  {
   "cell_type": "markdown",
   "metadata": {},
   "source": [
    "## 3-d) "
   ]
  },
  {
   "cell_type": "code",
   "execution_count": 39,
   "metadata": {
    "vscode": {
     "languageId": "r"
    }
   },
   "outputs": [
    {
     "data": {
      "image/png": "[encoded data removed]",
      "text/plain": [
       "Plot with title “Normal Q-Q Plot”"
      ]
     },
     "metadata": {},
     "output_type": "display_data"
    }
   ],
   "source": [
    "qqnorm(v2)\n",
    "qqline(v2)"
   ]
  },
  {
   "cell_type": "markdown",
   "metadata": {},
   "source": [
    "Non, la normalité n'est pas plausible."
   ]
  },
  {
   "cell_type": "markdown",
   "metadata": {},
   "source": [
    "## 3-e)"
   ]
  },
  {
   "cell_type": "markdown",
   "metadata": {},
   "source": [
    "Avant"
   ]
  },
  {
   "cell_type": "code",
   "execution_count": 40,
   "metadata": {
    "vscode": {
     "languageId": "r"
    }
   },
   "outputs": [
    {
     "data": {
      "text/plain": [
       "   Min. 1st Qu.  Median    Mean 3rd Qu.    Max. \n",
       "  0.000   2.000   5.000   5.447   7.000  16.000 "
      ]
     },
     "metadata": {},
     "output_type": "display_data"
    },
    {
     "data": {
      "text/html": [
       "3.83807305953922"
      ],
      "text/latex": [
       "3.83807305953922"
      ],
      "text/markdown": [
       "3.83807305953922"
      ],
      "text/plain": [
       "[1] 3.838073"
      ]
     },
     "metadata": {},
     "output_type": "display_data"
    }
   ],
   "source": [
    "summary(v2[v6==0])\n",
    "sd(v2[v6==0])"
   ]
  },
  {
   "cell_type": "markdown",
   "metadata": {},
   "source": [
    "Après"
   ]
  },
  {
   "cell_type": "code",
   "execution_count": 41,
   "metadata": {
    "vscode": {
     "languageId": "r"
    }
   },
   "outputs": [
    {
     "data": {
      "text/plain": [
       "   Min. 1st Qu.  Median    Mean 3rd Qu.    Max. \n",
       "   3.00   10.25   14.00   15.54   21.75   30.00 "
      ]
     },
     "metadata": {},
     "output_type": "display_data"
    },
    {
     "data": {
      "text/html": [
       "7.01558704161395"
      ],
      "text/latex": [
       "7.01558704161395"
      ],
      "text/markdown": [
       "7.01558704161395"
      ],
      "text/plain": [
       "[1] 7.015587"
      ]
     },
     "metadata": {},
     "output_type": "display_data"
    }
   ],
   "source": [
    "summary(v2[v6==1])\n",
    "sd(v2[v6==1])"
   ]
  },
  {
   "cell_type": "code",
   "execution_count": 42,
   "metadata": {
    "vscode": {
     "languageId": "r"
    }
   },
   "outputs": [
    {
     "data": {
      "image/png": "[encoded data removed]",
      "text/plain": [
       "plot without title"
      ]
     },
     "metadata": {},
     "output_type": "display_data"
    }
   ],
   "source": [
    "boxplot(v2~v6,col=\"red\")"
   ]
  },
  {
   "cell_type": "code",
   "execution_count": 43,
   "metadata": {
    "vscode": {
     "languageId": "r"
    }
   },
   "outputs": [
    {
     "data": {
      "image/png": "[encoded data removed]",
      "text/plain": [
       "plot without title"
      ]
     },
     "metadata": {},
     "output_type": "display_data"
    }
   ],
   "source": [
    "boxplot(v3~v6,col=\"yellow\")"
   ]
  }
 ],
 "metadata": {
  "anaconda-cloud": {},
  "kernelspec": {
   "display_name": "R",
   "language": "R",
   "name": "ir"
  },
  "language_info": {
   "codemirror_mode": "r",
   "file_extension": ".r",
   "mimetype": "text/x-r-source",
   "name": "R",
   "pygments_lexer": "r",
   "version": "3.4.1"
  }
 },
 "nbformat": 4,
 "nbformat_minor": 1
}
